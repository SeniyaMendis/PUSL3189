{
  "nbformat": 4,
  "nbformat_minor": 0,
  "metadata": {
    "colab": {
      "provenance": []
    },
    "kernelspec": {
      "name": "python3",
      "display_name": "Python 3"
    },
    "language_info": {
      "name": "python"
    }
  },
  "cells": [
    {
      "cell_type": "markdown",
      "source": [
        "## **TASK 05: TOPIC MODELING**"
      ],
      "metadata": {
        "id": "8O1CfWhZePGM"
      }
    },
    {
      "cell_type": "markdown",
      "source": [
        "### Using BERTopic On Reddit Dataset"
      ],
      "metadata": {
        "id": "SB3RK9MofJ0q"
      }
    },
    {
      "cell_type": "code",
      "source": [
        "# Installing bertopic\n",
        "\n",
        "!pip install bertopic"
      ],
      "metadata": {
        "colab": {
          "base_uri": "https://localhost:8080/",
          "height": 0
        },
        "id": "oZsipBvXfpkw",
        "outputId": "d376ce85-b43c-4f0f-9d1d-b0076f32858a"
      },
      "execution_count": 2,
      "outputs": [
        {
          "output_type": "stream",
          "name": "stdout",
          "text": [
            "Collecting bertopic\n",
            "  Downloading bertopic-0.16.4-py3-none-any.whl.metadata (23 kB)\n",
            "Collecting hdbscan>=0.8.29 (from bertopic)\n",
            "  Downloading hdbscan-0.8.40-cp310-cp310-manylinux_2_17_x86_64.manylinux2014_x86_64.whl.metadata (15 kB)\n",
            "Requirement already satisfied: numpy>=1.20.0 in /usr/local/lib/python3.10/dist-packages (from bertopic) (1.26.4)\n",
            "Requirement already satisfied: pandas>=1.1.5 in /usr/local/lib/python3.10/dist-packages (from bertopic) (2.2.2)\n",
            "Requirement already satisfied: plotly>=4.7.0 in /usr/local/lib/python3.10/dist-packages (from bertopic) (5.24.1)\n",
            "Requirement already satisfied: scikit-learn>=0.22.2.post1 in /usr/local/lib/python3.10/dist-packages (from bertopic) (1.6.0)\n",
            "Requirement already satisfied: sentence-transformers>=0.4.1 in /usr/local/lib/python3.10/dist-packages (from bertopic) (3.3.1)\n",
            "Requirement already satisfied: tqdm>=4.41.1 in /usr/local/lib/python3.10/dist-packages (from bertopic) (4.67.1)\n",
            "Collecting umap-learn>=0.5.0 (from bertopic)\n",
            "  Downloading umap_learn-0.5.7-py3-none-any.whl.metadata (21 kB)\n",
            "Requirement already satisfied: scipy>=1.0 in /usr/local/lib/python3.10/dist-packages (from hdbscan>=0.8.29->bertopic) (1.13.1)\n",
            "Requirement already satisfied: joblib>=1.0 in /usr/local/lib/python3.10/dist-packages (from hdbscan>=0.8.29->bertopic) (1.4.2)\n",
            "Requirement already satisfied: python-dateutil>=2.8.2 in /usr/local/lib/python3.10/dist-packages (from pandas>=1.1.5->bertopic) (2.8.2)\n",
            "Requirement already satisfied: pytz>=2020.1 in /usr/local/lib/python3.10/dist-packages (from pandas>=1.1.5->bertopic) (2024.2)\n",
            "Requirement already satisfied: tzdata>=2022.7 in /usr/local/lib/python3.10/dist-packages (from pandas>=1.1.5->bertopic) (2024.2)\n",
            "Requirement already satisfied: tenacity>=6.2.0 in /usr/local/lib/python3.10/dist-packages (from plotly>=4.7.0->bertopic) (9.0.0)\n",
            "Requirement already satisfied: packaging in /usr/local/lib/python3.10/dist-packages (from plotly>=4.7.0->bertopic) (24.2)\n",
            "Requirement already satisfied: threadpoolctl>=3.1.0 in /usr/local/lib/python3.10/dist-packages (from scikit-learn>=0.22.2.post1->bertopic) (3.5.0)\n",
            "Requirement already satisfied: transformers<5.0.0,>=4.41.0 in /usr/local/lib/python3.10/dist-packages (from sentence-transformers>=0.4.1->bertopic) (4.47.0)\n",
            "Requirement already satisfied: torch>=1.11.0 in /usr/local/lib/python3.10/dist-packages (from sentence-transformers>=0.4.1->bertopic) (2.5.1+cu121)\n",
            "Requirement already satisfied: huggingface-hub>=0.20.0 in /usr/local/lib/python3.10/dist-packages (from sentence-transformers>=0.4.1->bertopic) (0.27.0)\n",
            "Requirement already satisfied: Pillow in /usr/local/lib/python3.10/dist-packages (from sentence-transformers>=0.4.1->bertopic) (11.0.0)\n",
            "Requirement already satisfied: numba>=0.51.2 in /usr/local/lib/python3.10/dist-packages (from umap-learn>=0.5.0->bertopic) (0.60.0)\n",
            "Collecting pynndescent>=0.5 (from umap-learn>=0.5.0->bertopic)\n",
            "  Downloading pynndescent-0.5.13-py3-none-any.whl.metadata (6.8 kB)\n",
            "Requirement already satisfied: filelock in /usr/local/lib/python3.10/dist-packages (from huggingface-hub>=0.20.0->sentence-transformers>=0.4.1->bertopic) (3.16.1)\n",
            "Requirement already satisfied: fsspec>=2023.5.0 in /usr/local/lib/python3.10/dist-packages (from huggingface-hub>=0.20.0->sentence-transformers>=0.4.1->bertopic) (2024.10.0)\n",
            "Requirement already satisfied: pyyaml>=5.1 in /usr/local/lib/python3.10/dist-packages (from huggingface-hub>=0.20.0->sentence-transformers>=0.4.1->bertopic) (6.0.2)\n",
            "Requirement already satisfied: requests in /usr/local/lib/python3.10/dist-packages (from huggingface-hub>=0.20.0->sentence-transformers>=0.4.1->bertopic) (2.32.3)\n",
            "Requirement already satisfied: typing-extensions>=3.7.4.3 in /usr/local/lib/python3.10/dist-packages (from huggingface-hub>=0.20.0->sentence-transformers>=0.4.1->bertopic) (4.12.2)\n",
            "Requirement already satisfied: llvmlite<0.44,>=0.43.0dev0 in /usr/local/lib/python3.10/dist-packages (from numba>=0.51.2->umap-learn>=0.5.0->bertopic) (0.43.0)\n",
            "Requirement already satisfied: six>=1.5 in /usr/local/lib/python3.10/dist-packages (from python-dateutil>=2.8.2->pandas>=1.1.5->bertopic) (1.17.0)\n",
            "Requirement already satisfied: networkx in /usr/local/lib/python3.10/dist-packages (from torch>=1.11.0->sentence-transformers>=0.4.1->bertopic) (3.4.2)\n",
            "Requirement already satisfied: jinja2 in /usr/local/lib/python3.10/dist-packages (from torch>=1.11.0->sentence-transformers>=0.4.1->bertopic) (3.1.4)\n",
            "Requirement already satisfied: sympy==1.13.1 in /usr/local/lib/python3.10/dist-packages (from torch>=1.11.0->sentence-transformers>=0.4.1->bertopic) (1.13.1)\n",
            "Requirement already satisfied: mpmath<1.4,>=1.1.0 in /usr/local/lib/python3.10/dist-packages (from sympy==1.13.1->torch>=1.11.0->sentence-transformers>=0.4.1->bertopic) (1.3.0)\n",
            "Requirement already satisfied: regex!=2019.12.17 in /usr/local/lib/python3.10/dist-packages (from transformers<5.0.0,>=4.41.0->sentence-transformers>=0.4.1->bertopic) (2024.11.6)\n",
            "Requirement already satisfied: tokenizers<0.22,>=0.21 in /usr/local/lib/python3.10/dist-packages (from transformers<5.0.0,>=4.41.0->sentence-transformers>=0.4.1->bertopic) (0.21.0)\n",
            "Requirement already satisfied: safetensors>=0.4.1 in /usr/local/lib/python3.10/dist-packages (from transformers<5.0.0,>=4.41.0->sentence-transformers>=0.4.1->bertopic) (0.4.5)\n",
            "Requirement already satisfied: MarkupSafe>=2.0 in /usr/local/lib/python3.10/dist-packages (from jinja2->torch>=1.11.0->sentence-transformers>=0.4.1->bertopic) (3.0.2)\n",
            "Requirement already satisfied: charset-normalizer<4,>=2 in /usr/local/lib/python3.10/dist-packages (from requests->huggingface-hub>=0.20.0->sentence-transformers>=0.4.1->bertopic) (3.4.0)\n",
            "Requirement already satisfied: idna<4,>=2.5 in /usr/local/lib/python3.10/dist-packages (from requests->huggingface-hub>=0.20.0->sentence-transformers>=0.4.1->bertopic) (3.10)\n",
            "Requirement already satisfied: urllib3<3,>=1.21.1 in /usr/local/lib/python3.10/dist-packages (from requests->huggingface-hub>=0.20.0->sentence-transformers>=0.4.1->bertopic) (2.2.3)\n",
            "Requirement already satisfied: certifi>=2017.4.17 in /usr/local/lib/python3.10/dist-packages (from requests->huggingface-hub>=0.20.0->sentence-transformers>=0.4.1->bertopic) (2024.12.14)\n",
            "Downloading bertopic-0.16.4-py3-none-any.whl (143 kB)\n",
            "\u001b[2K   \u001b[90m━━━━━━━━━━━━━━━━━━━━━━━━━━━━━━━━━━━━━━━━\u001b[0m \u001b[32m143.7/143.7 kB\u001b[0m \u001b[31m5.8 MB/s\u001b[0m eta \u001b[36m0:00:00\u001b[0m\n",
            "\u001b[?25hDownloading hdbscan-0.8.40-cp310-cp310-manylinux_2_17_x86_64.manylinux2014_x86_64.whl (4.2 MB)\n",
            "\u001b[2K   \u001b[90m━━━━━━━━━━━━━━━━━━━━━━━━━━━━━━━━━━━━━━━━\u001b[0m \u001b[32m4.2/4.2 MB\u001b[0m \u001b[31m46.5 MB/s\u001b[0m eta \u001b[36m0:00:00\u001b[0m\n",
            "\u001b[?25hDownloading umap_learn-0.5.7-py3-none-any.whl (88 kB)\n",
            "\u001b[2K   \u001b[90m━━━━━━━━━━━━━━━━━━━━━━━━━━━━━━━━━━━━━━━━\u001b[0m \u001b[32m88.8/88.8 kB\u001b[0m \u001b[31m6.6 MB/s\u001b[0m eta \u001b[36m0:00:00\u001b[0m\n",
            "\u001b[?25hDownloading pynndescent-0.5.13-py3-none-any.whl (56 kB)\n",
            "\u001b[2K   \u001b[90m━━━━━━━━━━━━━━━━━━━━━━━━━━━━━━━━━━━━━━━━\u001b[0m \u001b[32m56.9/56.9 kB\u001b[0m \u001b[31m4.2 MB/s\u001b[0m eta \u001b[36m0:00:00\u001b[0m\n",
            "\u001b[?25hInstalling collected packages: pynndescent, hdbscan, umap-learn, bertopic\n",
            "Successfully installed bertopic-0.16.4 hdbscan-0.8.40 pynndescent-0.5.13 umap-learn-0.5.7\n"
          ]
        }
      ]
    },
    {
      "cell_type": "code",
      "source": [
        "# Importing necessary libraries\n",
        "\n",
        "import pandas as pd\n",
        "from bertopic import BERTopic"
      ],
      "metadata": {
        "id": "hjbmKmaNfUPh"
      },
      "execution_count": 3,
      "outputs": []
    },
    {
      "cell_type": "code",
      "source": [
        "# Loading the Reddit dataset\n",
        "\n",
        "reddit_data = pd.read_csv('/content/reddit_posts_with_sentiments.csv')\n",
        "\n",
        "# Preparing the text data\n",
        "\n",
        "reddit_texts = reddit_data[\"Processed Title\"].apply(eval).apply(' '.join)\n",
        "\n",
        "# Initializing the BERTopic model\n",
        "\n",
        "topic_model = BERTopic(language=\"english\")\n",
        "\n",
        "# Fitting the model and transforming the data\n",
        "\n",
        "topics, probs = topic_model.fit_transform(reddit_texts)\n",
        "\n",
        "# Getting topic information\n",
        "\n",
        "topic_info = topic_model.get_topic_info()\n",
        "print(\"Topic Information:\\n\", topic_info)\n",
        "\n",
        "# Getting keywords for each topic\n",
        "\n",
        "for topic_num in topic_info[\"Topic\"].unique():\n",
        "    if topic_num != -1:  # Excluding 'outlier' topics\n",
        "        print(f\"\\nTopic {topic_num} Keywords:\")\n",
        "        print(topic_model.get_topic(topic_num))\n",
        "\n",
        "# Visualizing the topics\n",
        "\n",
        "topic_model.visualize_topics()"
      ],
      "metadata": {
        "colab": {
          "base_uri": "https://localhost:8080/",
          "height": 1000
        },
        "id": "xOQTXE3sf0FP",
        "outputId": "47cfdd03-1533-4ae7-a003-d1f4058ad046"
      },
      "execution_count": 12,
      "outputs": [
        {
          "output_type": "stream",
          "name": "stdout",
          "text": [
            "Topic Information:\n",
            "    Topic  Count                           Name  \\\n",
            "0      0     80  0_thread_israel_rworldnew_war   \n",
            "1      1     60  1_zelenskyy_putin_world_whole   \n",
            "2      2     60     2_ukrain_kill_fight_korean   \n",
            "3      3     50      3_forc_moscow_bomb_russia   \n",
            "4      4     20     4_cnn_confirm_unearth_task   \n",
            "\n",
            "                                      Representation  \\\n",
            "0  [thread, israel, rworldnew, war, live, ukrain,...   \n",
            "1  [zelenskyy, putin, world, whole, denmark, paul...   \n",
            "2  [ukrain, kill, fight, korean, us, north, alloc...   \n",
            "3  [forc, moscow, bomb, russia, russian, kill, li...   \n",
            "4  [cnn, confirm, unearth, task, viral, syria, pr...   \n",
            "\n",
            "                                 Representative_Docs  \n",
            "0  [breakthrough israel 's normal talk saudi arab...  \n",
            "1  [whale activist paul watson celebr releas jail...  \n",
            "2  [‘ sever hundr ’ north korean troop kill fight...  \n",
            "3  [spain plan tighten law forc 'influenc rectifi...  \n",
            "4  [assad 's fall task unearth dead syria 's mass...  \n",
            "\n",
            "Topic 0 Keywords:\n",
            "[('thread', 0.12632660402179183), ('israel', 0.1042909510247201), ('rworldnew', 0.07865557187409863), ('war', 0.07865557187409863), ('live', 0.07865557187409863), ('ukrain', 0.06901372563564201), ('gener', 0.06316330201089591), ('russia', 0.06316330201089591), ('russian', 0.05831100380322832), ('price', 0.04727274354419454)]\n",
            "\n",
            "Topic 1 Keywords:\n",
            "[('zelenskyy', 0.11938792159461399), ('putin', 0.11938792159461399), ('world', 0.07175327145100957), ('whole', 0.07175327145100957), ('denmark', 0.07175327145100957), ('paul', 0.07175327145100957), ('celebr', 0.07175327145100957), ('chang', 0.07175327145100957), ('consequ', 0.07175327145100957), ('leverag', 0.07175327145100957)]\n",
            "\n",
            "Topic 2 Keywords:\n",
            "[('ukrain', 0.12415167574665759), ('kill', 0.11801036483986684), ('fight', 0.10612259697299022), ('korean', 0.0938066755248805), ('us', 0.0938066755248805), ('north', 0.0938066755248805), ('alloc', 0.06378068573423074), ('iran', 0.06378068573423074), ('without', 0.06378068573423074), ('korea', 0.06378068573423074)]\n",
            "\n",
            "Topic 3 Keywords:\n",
            "[('forc', 0.1548715578151775), ('moscow', 0.12857160787112276), ('bomb', 0.12857160787112276), ('russia', 0.10324770521011832), ('russian', 0.09531606390912321), ('kill', 0.09531606390912321), ('lift', 0.07727275387031801), ('undermin', 0.07727275387031801), ('year', 0.07727275387031801), ('30k', 0.07727275387031801)]\n",
            "\n",
            "Topic 4 Keywords:\n",
            "[('cnn', 0.23636371772097273), ('confirm', 0.23636371772097273), ('unearth', 0.23636371772097273), ('task', 0.23636371772097273), ('viral', 0.23636371772097273), ('syria', 0.23636371772097273), ('prison', 0.23636371772097273), ('misl', 0.23636371772097273), ('mass', 0.23636371772097273), ('man', 0.23636371772097273)]\n"
          ]
        },
        {
          "output_type": "display_data",
          "data": {
            "text/html": [
              "<html>\n",
              "<head><meta charset=\"utf-8\" /></head>\n",
              "<body>\n",
              "    <div>            <script src=\"https://cdnjs.cloudflare.com/ajax/libs/mathjax/2.7.5/MathJax.js?config=TeX-AMS-MML_SVG\"></script><script type=\"text/javascript\">if (window.MathJax && window.MathJax.Hub && window.MathJax.Hub.Config) {window.MathJax.Hub.Config({SVG: {font: \"STIX-Web\"}});}</script>                <script type=\"text/javascript\">window.PlotlyConfig = {MathJaxConfig: 'local'};</script>\n",
              "        <script charset=\"utf-8\" src=\"https://cdn.plot.ly/plotly-2.35.2.min.js\"></script>                <div id=\"b8b3183d-6dbd-405b-afe8-4581f5d71d4f\" class=\"plotly-graph-div\" style=\"height:650px; width:650px;\"></div>            <script type=\"text/javascript\">                                    window.PLOTLYENV=window.PLOTLYENV || {};                                    if (document.getElementById(\"b8b3183d-6dbd-405b-afe8-4581f5d71d4f\")) {                    Plotly.newPlot(                        \"b8b3183d-6dbd-405b-afe8-4581f5d71d4f\",                        [{\"customdata\":[[0,\"thread | israel | rworldnew | war | live\",80],[1,\"zelenskyy | putin | world | whole | denmark\",60],[2,\"ukrain | kill | fight | korean | us\",60],[3,\"forc | moscow | bomb | russia | russian\",50],[4,\"cnn | confirm | unearth | task | viral\",20]],\"hovertemplate\":\"\\u003cb\\u003eTopic %{customdata[0]}\\u003c\\u002fb\\u003e\\u003cbr\\u003e%{customdata[1]}\\u003cbr\\u003eSize: %{customdata[2]}\",\"legendgroup\":\"\",\"marker\":{\"color\":\"#B0BEC5\",\"size\":[80,60,60,50,20],\"sizemode\":\"area\",\"sizeref\":0.05,\"symbol\":\"circle\",\"line\":{\"color\":\"DarkSlateGrey\",\"width\":2}},\"mode\":\"markers\",\"name\":\"\",\"orientation\":\"v\",\"showlegend\":false,\"x\":[13.743733,12.629287,13.644941,13.4618,12.824599],\"xaxis\":\"x\",\"y\":[2.4053733,2.9722085,1.6687014,3.3631654,3.8993864],\"yaxis\":\"y\",\"type\":\"scatter\"}],                        {\"template\":{\"data\":{\"barpolar\":[{\"marker\":{\"line\":{\"color\":\"white\",\"width\":0.5},\"pattern\":{\"fillmode\":\"overlay\",\"size\":10,\"solidity\":0.2}},\"type\":\"barpolar\"}],\"bar\":[{\"error_x\":{\"color\":\"rgb(36,36,36)\"},\"error_y\":{\"color\":\"rgb(36,36,36)\"},\"marker\":{\"line\":{\"color\":\"white\",\"width\":0.5},\"pattern\":{\"fillmode\":\"overlay\",\"size\":10,\"solidity\":0.2}},\"type\":\"bar\"}],\"carpet\":[{\"aaxis\":{\"endlinecolor\":\"rgb(36,36,36)\",\"gridcolor\":\"white\",\"linecolor\":\"white\",\"minorgridcolor\":\"white\",\"startlinecolor\":\"rgb(36,36,36)\"},\"baxis\":{\"endlinecolor\":\"rgb(36,36,36)\",\"gridcolor\":\"white\",\"linecolor\":\"white\",\"minorgridcolor\":\"white\",\"startlinecolor\":\"rgb(36,36,36)\"},\"type\":\"carpet\"}],\"choropleth\":[{\"colorbar\":{\"outlinewidth\":1,\"tickcolor\":\"rgb(36,36,36)\",\"ticks\":\"outside\"},\"type\":\"choropleth\"}],\"contourcarpet\":[{\"colorbar\":{\"outlinewidth\":1,\"tickcolor\":\"rgb(36,36,36)\",\"ticks\":\"outside\"},\"type\":\"contourcarpet\"}],\"contour\":[{\"colorbar\":{\"outlinewidth\":1,\"tickcolor\":\"rgb(36,36,36)\",\"ticks\":\"outside\"},\"colorscale\":[[0.0,\"#440154\"],[0.1111111111111111,\"#482878\"],[0.2222222222222222,\"#3e4989\"],[0.3333333333333333,\"#31688e\"],[0.4444444444444444,\"#26828e\"],[0.5555555555555556,\"#1f9e89\"],[0.6666666666666666,\"#35b779\"],[0.7777777777777778,\"#6ece58\"],[0.8888888888888888,\"#b5de2b\"],[1.0,\"#fde725\"]],\"type\":\"contour\"}],\"heatmapgl\":[{\"colorbar\":{\"outlinewidth\":1,\"tickcolor\":\"rgb(36,36,36)\",\"ticks\":\"outside\"},\"colorscale\":[[0.0,\"#440154\"],[0.1111111111111111,\"#482878\"],[0.2222222222222222,\"#3e4989\"],[0.3333333333333333,\"#31688e\"],[0.4444444444444444,\"#26828e\"],[0.5555555555555556,\"#1f9e89\"],[0.6666666666666666,\"#35b779\"],[0.7777777777777778,\"#6ece58\"],[0.8888888888888888,\"#b5de2b\"],[1.0,\"#fde725\"]],\"type\":\"heatmapgl\"}],\"heatmap\":[{\"colorbar\":{\"outlinewidth\":1,\"tickcolor\":\"rgb(36,36,36)\",\"ticks\":\"outside\"},\"colorscale\":[[0.0,\"#440154\"],[0.1111111111111111,\"#482878\"],[0.2222222222222222,\"#3e4989\"],[0.3333333333333333,\"#31688e\"],[0.4444444444444444,\"#26828e\"],[0.5555555555555556,\"#1f9e89\"],[0.6666666666666666,\"#35b779\"],[0.7777777777777778,\"#6ece58\"],[0.8888888888888888,\"#b5de2b\"],[1.0,\"#fde725\"]],\"type\":\"heatmap\"}],\"histogram2dcontour\":[{\"colorbar\":{\"outlinewidth\":1,\"tickcolor\":\"rgb(36,36,36)\",\"ticks\":\"outside\"},\"colorscale\":[[0.0,\"#440154\"],[0.1111111111111111,\"#482878\"],[0.2222222222222222,\"#3e4989\"],[0.3333333333333333,\"#31688e\"],[0.4444444444444444,\"#26828e\"],[0.5555555555555556,\"#1f9e89\"],[0.6666666666666666,\"#35b779\"],[0.7777777777777778,\"#6ece58\"],[0.8888888888888888,\"#b5de2b\"],[1.0,\"#fde725\"]],\"type\":\"histogram2dcontour\"}],\"histogram2d\":[{\"colorbar\":{\"outlinewidth\":1,\"tickcolor\":\"rgb(36,36,36)\",\"ticks\":\"outside\"},\"colorscale\":[[0.0,\"#440154\"],[0.1111111111111111,\"#482878\"],[0.2222222222222222,\"#3e4989\"],[0.3333333333333333,\"#31688e\"],[0.4444444444444444,\"#26828e\"],[0.5555555555555556,\"#1f9e89\"],[0.6666666666666666,\"#35b779\"],[0.7777777777777778,\"#6ece58\"],[0.8888888888888888,\"#b5de2b\"],[1.0,\"#fde725\"]],\"type\":\"histogram2d\"}],\"histogram\":[{\"marker\":{\"line\":{\"color\":\"white\",\"width\":0.6}},\"type\":\"histogram\"}],\"mesh3d\":[{\"colorbar\":{\"outlinewidth\":1,\"tickcolor\":\"rgb(36,36,36)\",\"ticks\":\"outside\"},\"type\":\"mesh3d\"}],\"parcoords\":[{\"line\":{\"colorbar\":{\"outlinewidth\":1,\"tickcolor\":\"rgb(36,36,36)\",\"ticks\":\"outside\"}},\"type\":\"parcoords\"}],\"pie\":[{\"automargin\":true,\"type\":\"pie\"}],\"scatter3d\":[{\"line\":{\"colorbar\":{\"outlinewidth\":1,\"tickcolor\":\"rgb(36,36,36)\",\"ticks\":\"outside\"}},\"marker\":{\"colorbar\":{\"outlinewidth\":1,\"tickcolor\":\"rgb(36,36,36)\",\"ticks\":\"outside\"}},\"type\":\"scatter3d\"}],\"scattercarpet\":[{\"marker\":{\"colorbar\":{\"outlinewidth\":1,\"tickcolor\":\"rgb(36,36,36)\",\"ticks\":\"outside\"}},\"type\":\"scattercarpet\"}],\"scattergeo\":[{\"marker\":{\"colorbar\":{\"outlinewidth\":1,\"tickcolor\":\"rgb(36,36,36)\",\"ticks\":\"outside\"}},\"type\":\"scattergeo\"}],\"scattergl\":[{\"marker\":{\"colorbar\":{\"outlinewidth\":1,\"tickcolor\":\"rgb(36,36,36)\",\"ticks\":\"outside\"}},\"type\":\"scattergl\"}],\"scattermapbox\":[{\"marker\":{\"colorbar\":{\"outlinewidth\":1,\"tickcolor\":\"rgb(36,36,36)\",\"ticks\":\"outside\"}},\"type\":\"scattermapbox\"}],\"scatterpolargl\":[{\"marker\":{\"colorbar\":{\"outlinewidth\":1,\"tickcolor\":\"rgb(36,36,36)\",\"ticks\":\"outside\"}},\"type\":\"scatterpolargl\"}],\"scatterpolar\":[{\"marker\":{\"colorbar\":{\"outlinewidth\":1,\"tickcolor\":\"rgb(36,36,36)\",\"ticks\":\"outside\"}},\"type\":\"scatterpolar\"}],\"scatter\":[{\"fillpattern\":{\"fillmode\":\"overlay\",\"size\":10,\"solidity\":0.2},\"type\":\"scatter\"}],\"scatterternary\":[{\"marker\":{\"colorbar\":{\"outlinewidth\":1,\"tickcolor\":\"rgb(36,36,36)\",\"ticks\":\"outside\"}},\"type\":\"scatterternary\"}],\"surface\":[{\"colorbar\":{\"outlinewidth\":1,\"tickcolor\":\"rgb(36,36,36)\",\"ticks\":\"outside\"},\"colorscale\":[[0.0,\"#440154\"],[0.1111111111111111,\"#482878\"],[0.2222222222222222,\"#3e4989\"],[0.3333333333333333,\"#31688e\"],[0.4444444444444444,\"#26828e\"],[0.5555555555555556,\"#1f9e89\"],[0.6666666666666666,\"#35b779\"],[0.7777777777777778,\"#6ece58\"],[0.8888888888888888,\"#b5de2b\"],[1.0,\"#fde725\"]],\"type\":\"surface\"}],\"table\":[{\"cells\":{\"fill\":{\"color\":\"rgb(237,237,237)\"},\"line\":{\"color\":\"white\"}},\"header\":{\"fill\":{\"color\":\"rgb(217,217,217)\"},\"line\":{\"color\":\"white\"}},\"type\":\"table\"}]},\"layout\":{\"annotationdefaults\":{\"arrowhead\":0,\"arrowwidth\":1},\"autotypenumbers\":\"strict\",\"coloraxis\":{\"colorbar\":{\"outlinewidth\":1,\"tickcolor\":\"rgb(36,36,36)\",\"ticks\":\"outside\"}},\"colorscale\":{\"diverging\":[[0.0,\"rgb(103,0,31)\"],[0.1,\"rgb(178,24,43)\"],[0.2,\"rgb(214,96,77)\"],[0.3,\"rgb(244,165,130)\"],[0.4,\"rgb(253,219,199)\"],[0.5,\"rgb(247,247,247)\"],[0.6,\"rgb(209,229,240)\"],[0.7,\"rgb(146,197,222)\"],[0.8,\"rgb(67,147,195)\"],[0.9,\"rgb(33,102,172)\"],[1.0,\"rgb(5,48,97)\"]],\"sequential\":[[0.0,\"#440154\"],[0.1111111111111111,\"#482878\"],[0.2222222222222222,\"#3e4989\"],[0.3333333333333333,\"#31688e\"],[0.4444444444444444,\"#26828e\"],[0.5555555555555556,\"#1f9e89\"],[0.6666666666666666,\"#35b779\"],[0.7777777777777778,\"#6ece58\"],[0.8888888888888888,\"#b5de2b\"],[1.0,\"#fde725\"]],\"sequentialminus\":[[0.0,\"#440154\"],[0.1111111111111111,\"#482878\"],[0.2222222222222222,\"#3e4989\"],[0.3333333333333333,\"#31688e\"],[0.4444444444444444,\"#26828e\"],[0.5555555555555556,\"#1f9e89\"],[0.6666666666666666,\"#35b779\"],[0.7777777777777778,\"#6ece58\"],[0.8888888888888888,\"#b5de2b\"],[1.0,\"#fde725\"]]},\"colorway\":[\"#1F77B4\",\"#FF7F0E\",\"#2CA02C\",\"#D62728\",\"#9467BD\",\"#8C564B\",\"#E377C2\",\"#7F7F7F\",\"#BCBD22\",\"#17BECF\"],\"font\":{\"color\":\"rgb(36,36,36)\"},\"geo\":{\"bgcolor\":\"white\",\"lakecolor\":\"white\",\"landcolor\":\"white\",\"showlakes\":true,\"showland\":true,\"subunitcolor\":\"white\"},\"hoverlabel\":{\"align\":\"left\"},\"hovermode\":\"closest\",\"mapbox\":{\"style\":\"light\"},\"paper_bgcolor\":\"white\",\"plot_bgcolor\":\"white\",\"polar\":{\"angularaxis\":{\"gridcolor\":\"rgb(232,232,232)\",\"linecolor\":\"rgb(36,36,36)\",\"showgrid\":false,\"showline\":true,\"ticks\":\"outside\"},\"bgcolor\":\"white\",\"radialaxis\":{\"gridcolor\":\"rgb(232,232,232)\",\"linecolor\":\"rgb(36,36,36)\",\"showgrid\":false,\"showline\":true,\"ticks\":\"outside\"}},\"scene\":{\"xaxis\":{\"backgroundcolor\":\"white\",\"gridcolor\":\"rgb(232,232,232)\",\"gridwidth\":2,\"linecolor\":\"rgb(36,36,36)\",\"showbackground\":true,\"showgrid\":false,\"showline\":true,\"ticks\":\"outside\",\"zeroline\":false,\"zerolinecolor\":\"rgb(36,36,36)\"},\"yaxis\":{\"backgroundcolor\":\"white\",\"gridcolor\":\"rgb(232,232,232)\",\"gridwidth\":2,\"linecolor\":\"rgb(36,36,36)\",\"showbackground\":true,\"showgrid\":false,\"showline\":true,\"ticks\":\"outside\",\"zeroline\":false,\"zerolinecolor\":\"rgb(36,36,36)\"},\"zaxis\":{\"backgroundcolor\":\"white\",\"gridcolor\":\"rgb(232,232,232)\",\"gridwidth\":2,\"linecolor\":\"rgb(36,36,36)\",\"showbackground\":true,\"showgrid\":false,\"showline\":true,\"ticks\":\"outside\",\"zeroline\":false,\"zerolinecolor\":\"rgb(36,36,36)\"}},\"shapedefaults\":{\"fillcolor\":\"black\",\"line\":{\"width\":0},\"opacity\":0.3},\"ternary\":{\"aaxis\":{\"gridcolor\":\"rgb(232,232,232)\",\"linecolor\":\"rgb(36,36,36)\",\"showgrid\":false,\"showline\":true,\"ticks\":\"outside\"},\"baxis\":{\"gridcolor\":\"rgb(232,232,232)\",\"linecolor\":\"rgb(36,36,36)\",\"showgrid\":false,\"showline\":true,\"ticks\":\"outside\"},\"bgcolor\":\"white\",\"caxis\":{\"gridcolor\":\"rgb(232,232,232)\",\"linecolor\":\"rgb(36,36,36)\",\"showgrid\":false,\"showline\":true,\"ticks\":\"outside\"}},\"title\":{\"x\":0.05},\"xaxis\":{\"automargin\":true,\"gridcolor\":\"rgb(232,232,232)\",\"linecolor\":\"rgb(36,36,36)\",\"showgrid\":false,\"showline\":true,\"ticks\":\"outside\",\"title\":{\"standoff\":15},\"zeroline\":false,\"zerolinecolor\":\"rgb(36,36,36)\"},\"yaxis\":{\"automargin\":true,\"gridcolor\":\"rgb(232,232,232)\",\"linecolor\":\"rgb(36,36,36)\",\"showgrid\":false,\"showline\":true,\"ticks\":\"outside\",\"title\":{\"standoff\":15},\"zeroline\":false,\"zerolinecolor\":\"rgb(36,36,36)\"}}},\"xaxis\":{\"anchor\":\"y\",\"domain\":[0.0,1.0],\"title\":{\"text\":\"\"},\"visible\":false,\"range\":[10.734893751144408,15.805293416976928]},\"yaxis\":{\"anchor\":\"x\",\"domain\":[0.0,1.0],\"title\":{\"text\":\"\"},\"visible\":false,\"range\":[1.4183961987495421,4.484294366836548]},\"legend\":{\"tracegroupgap\":0,\"itemsizing\":\"constant\"},\"margin\":{\"t\":60},\"title\":{\"font\":{\"size\":22,\"color\":\"Black\"},\"text\":\"\\u003cb\\u003eIntertopic Distance Map\\u003c\\u002fb\\u003e\",\"y\":0.95,\"x\":0.5,\"xanchor\":\"center\",\"yanchor\":\"top\"},\"hoverlabel\":{\"font\":{\"size\":16,\"family\":\"Rockwell\"},\"bgcolor\":\"white\"},\"width\":650,\"height\":650,\"sliders\":[{\"active\":0,\"pad\":{\"t\":50},\"steps\":[{\"args\":[{\"marker.color\":[[\"red\",\"#B0BEC5\",\"#B0BEC5\",\"#B0BEC5\",\"#B0BEC5\"]]}],\"label\":\"Topic 0\",\"method\":\"update\"},{\"args\":[{\"marker.color\":[[\"#B0BEC5\",\"red\",\"#B0BEC5\",\"#B0BEC5\",\"#B0BEC5\"]]}],\"label\":\"Topic 1\",\"method\":\"update\"},{\"args\":[{\"marker.color\":[[\"#B0BEC5\",\"#B0BEC5\",\"red\",\"#B0BEC5\",\"#B0BEC5\"]]}],\"label\":\"Topic 2\",\"method\":\"update\"},{\"args\":[{\"marker.color\":[[\"#B0BEC5\",\"#B0BEC5\",\"#B0BEC5\",\"red\",\"#B0BEC5\"]]}],\"label\":\"Topic 3\",\"method\":\"update\"},{\"args\":[{\"marker.color\":[[\"#B0BEC5\",\"#B0BEC5\",\"#B0BEC5\",\"#B0BEC5\",\"red\"]]}],\"label\":\"Topic 4\",\"method\":\"update\"}]}],\"shapes\":[{\"line\":{\"color\":\"#CFD8DC\",\"width\":2},\"type\":\"line\",\"x0\":13.270093584060668,\"x1\":13.270093584060668,\"y0\":1.4183961987495421,\"y1\":4.484294366836548},{\"line\":{\"color\":\"#9E9E9E\",\"width\":2},\"type\":\"line\",\"x0\":10.734893751144408,\"x1\":15.805293416976928,\"y0\":2.951345282793045,\"y1\":2.951345282793045}],\"annotations\":[{\"showarrow\":false,\"text\":\"D1\",\"x\":10.734893751144408,\"y\":2.951345282793045,\"yshift\":10},{\"showarrow\":false,\"text\":\"D2\",\"x\":13.270093584060668,\"xshift\":10,\"y\":4.484294366836548}]},                        {\"responsive\": true}                    ).then(function(){\n",
              "                            \n",
              "var gd = document.getElementById('b8b3183d-6dbd-405b-afe8-4581f5d71d4f');\n",
              "var x = new MutationObserver(function (mutations, observer) {{\n",
              "        var display = window.getComputedStyle(gd).display;\n",
              "        if (!display || display === 'none') {{\n",
              "            console.log([gd, 'removed!']);\n",
              "            Plotly.purge(gd);\n",
              "            observer.disconnect();\n",
              "        }}\n",
              "}});\n",
              "\n",
              "// Listen for the removal of the full notebook cells\n",
              "var notebookContainer = gd.closest('#notebook-container');\n",
              "if (notebookContainer) {{\n",
              "    x.observe(notebookContainer, {childList: true});\n",
              "}}\n",
              "\n",
              "// Listen for the clearing of the current output cell\n",
              "var outputEl = gd.closest('.output');\n",
              "if (outputEl) {{\n",
              "    x.observe(outputEl, {childList: true});\n",
              "}}\n",
              "\n",
              "                        })                };                            </script>        </div>\n",
              "</body>\n",
              "</html>"
            ]
          },
          "metadata": {}
        }
      ]
    },
    {
      "cell_type": "code",
      "source": [
        "# Save topics and keywords to a text file and a HTML file\n",
        "\n",
        "with open(\"reddit_topics.txt\", \"w\") as file:\n",
        "    for topic_num in topic_info[\"Topic\"].unique():\n",
        "        if topic_num != -1:  # Exclude \"outlier\" topics\n",
        "            file.write(f\"Topic {topic_num}:\\n\")\n",
        "            keywords = topic_model.get_topic(topic_num)\n",
        "            for word, score in keywords:\n",
        "                file.write(f\"  {word}: {score:.4f}\\n\")\n",
        "            file.write(\"\\n\")\n",
        "\n",
        "topic_visualization = topic_model.visualize_topics()\n",
        "topic_visualization.write_html(\"reddit_topics_visualization.html\")\n",
        "\n",
        "print(\"Interactive map has been saved as 'reddit_topics_visualization.html'.\")\n",
        "\n",
        "print(\"Topics and keywords have been saved to 'reddit_topics.txt'.\")"
      ],
      "metadata": {
        "colab": {
          "base_uri": "https://localhost:8080/"
        },
        "id": "QemTdTMvhIto",
        "outputId": "e0e43d47-b46f-4c37-b18a-8a15631832ba"
      },
      "execution_count": 14,
      "outputs": [
        {
          "output_type": "stream",
          "name": "stdout",
          "text": [
            "Interactive map has been saved as 'reddit_topics_visualization.html'.\n",
            "Topics and keywords have been saved to 'reddit_topics.txt'.\n"
          ]
        }
      ]
    },
    {
      "cell_type": "markdown",
      "source": [
        "### Using LDA On News Articles"
      ],
      "metadata": {
        "id": "zCobpq3ql1o0"
      }
    },
    {
      "cell_type": "code",
      "source": [
        "# Importing necessary libraries\n",
        "\n",
        "from gensim.models.ldamodel import LdaModel\n",
        "from gensim.corpora.dictionary import Dictionary\n",
        "import pyLDAvis\n",
        "import pyLDAvis.gensim_models as gensimvis\n",
        "from IPython.display import display, HTML"
      ],
      "metadata": {
        "colab": {
          "base_uri": "https://localhost:8080/"
        },
        "id": "H1RmrRxnxtBe",
        "outputId": "abbe516b-e59b-4bc5-9b81-4e398240e535"
      },
      "execution_count": 31,
      "outputs": [
        {
          "output_type": "stream",
          "name": "stderr",
          "text": [
            "/usr/local/lib/python3.10/dist-packages/ipykernel/ipkernel.py:283: DeprecationWarning:\n",
            "\n",
            "`should_run_async` will not call `transform_cell` automatically in the future. Please pass the result to `transformed_cell` argument and any exception that happen during thetransform in `preprocessing_exc_tuple` in IPython 7.17 and above.\n",
            "\n"
          ]
        }
      ]
    },
    {
      "cell_type": "code",
      "source": [
        "# Loading the News Articles dataset\n",
        "\n",
        "news_data = pd.read_csv('/content/news_articles_with_sentiments.csv')\n",
        "\n",
        "# Preparing the data\n",
        "\n",
        "news_texts = news_data[\"Processed Text\"].apply(eval)\n",
        "\n",
        "# Preparing Gensim's Dictionary and Corpus\n",
        "\n",
        "dictionary = Dictionary(news_texts)\n",
        "corpus = [dictionary.doc2bow(text) for text in news_texts]\n",
        "\n",
        "# Initializing the LDA model with Gensim\n",
        "\n",
        "lda_model = LdaModel(corpus=corpus, num_topics=5, id2word=dictionary, random_state=42)\n",
        "\n",
        "# Getting topic information\n",
        "\n",
        "topics = lda_model.print_topics(num_words=10)\n",
        "print(\"Topic Information:\\n\")\n",
        "for idx, topic in topics:\n",
        "    print(f\"Topic {idx}:\\n{topic}\\n\")\n",
        "\n",
        "# Saving topics and keywords to a text file\n",
        "\n",
        "with open(\"news_topics.txt\", \"w\") as file:\n",
        "    for idx, topic in topics:\n",
        "        file.write(f\"Topic {idx}:\\n{topic}\\n\\n\")\n",
        "\n",
        "print(\"Topics and keywords have been saved to 'news_topics.txt'.\")\n",
        "\n",
        "# Creating the interactive visualization\n",
        "\n",
        "visualization = gensimvis.prepare(lda_model, corpus, dictionary)\n",
        "\n",
        "# Saving the visualization to an HTML file\n",
        "\n",
        "pyLDAvis.save_html(visualization, \"news_topics_visualization.html\")\n",
        "print(\"Interactive map has been saved as 'news_topics_visualization.html'.\")\n",
        "\n",
        "# Displaying the visualization inline\n",
        "\n",
        "display(HTML(pyLDAvis.display(visualization).data))"
      ],
      "metadata": {
        "colab": {
          "base_uri": "https://localhost:8080/",
          "height": 1000
        },
        "id": "Cgzhd6eiaB0J",
        "outputId": "d3ebf052-e8ab-497a-97d6-82c5ed4ea601"
      },
      "execution_count": 33,
      "outputs": [
        {
          "output_type": "stream",
          "name": "stderr",
          "text": [
            "/usr/local/lib/python3.10/dist-packages/ipykernel/ipkernel.py:283: DeprecationWarning:\n",
            "\n",
            "`should_run_async` will not call `transform_cell` automatically in the future. Please pass the result to `transformed_cell` argument and any exception that happen during thetransform in `preprocessing_exc_tuple` in IPython 7.17 and above.\n",
            "\n",
            "WARNING:gensim.models.ldamodel:too few updates, training might not converge; consider increasing the number of passes or iterations to improve accuracy\n"
          ]
        },
        {
          "output_type": "stream",
          "name": "stdout",
          "text": [
            "Topic Information:\n",
            "\n",
            "Topic 0:\n",
            "0.025*\"char\" + 0.006*\"trump\" + 0.006*\"donald\" + 0.006*\"world\" + 0.006*\"year\" + 0.005*\"article\" + 0.005*\"offering\" + 0.005*\"first\" + 0.005*\"presidentelect\" + 0.005*\"event\"\n",
            "\n",
            "Topic 1:\n",
            "0.022*\"char\" + 0.007*\"’\" + 0.006*\"ho\" + 0.005*\"month\" + 0.004*\"news\" + 0.004*\"…\" + 0.004*\"release\" + 0.004*\"said\" + 0.004*\"december\" + 0.004*\"capability\"\n",
            "\n",
            "Topic 2:\n",
            "0.018*\"char\" + 0.009*\"drag\" + 0.007*\"king\" + 0.006*\"game\" + 0.006*\"presidentelect\" + 0.005*\"park\" + 0.005*\"year\" + 0.005*\"object\" + 0.005*\"many\" + 0.005*\"industry\"\n",
            "\n",
            "Topic 3:\n",
            "0.029*\"char\" + 0.008*\"new\" + 0.005*\"year\" + 0.005*\"–\" + 0.005*\"time\" + 0.005*\"news\" + 0.004*\"u\" + 0.004*\"flag\" + 0.004*\"country\" + 0.004*\"report\"\n",
            "\n",
            "Topic 4:\n",
            "0.032*\"char\" + 0.009*\"world\" + 0.008*\"news\" + 0.006*\"free\" + 0.006*\"new\" + 0.006*\"’\" + 0.006*\"content\" + 0.005*\"access\" + 0.005*\"first\" + 0.004*\"around\"\n",
            "\n",
            "Topics and keywords have been saved to 'news_topics.txt'.\n",
            "Interactive map has been saved as 'news_topics_visualization.html'.\n"
          ]
        },
        {
          "output_type": "display_data",
          "data": {
            "text/plain": [
              "<IPython.core.display.HTML object>"
            ],
            "text/html": [
              "\n",
              "<link rel=\"stylesheet\" type=\"text/css\" href=\"https://cdn.jsdelivr.net/gh/bmabey/pyLDAvis@3.4.0/pyLDAvis/js/ldavis.v1.0.0.css\">\n",
              "\n",
              "\n",
              "<div id=\"ldavis_el2051379864494089604240740622\" style=\"background-color:white;\"></div>\n",
              "<script type=\"text/javascript\">\n",
              "\n",
              "var ldavis_el2051379864494089604240740622_data = {\"mdsDat\": {\"x\": [0.10923993178098644, -0.018311285223937063, -0.028291870260072675, -0.01986854401102969, -0.042768232285946915], \"y\": [0.010095177740013945, -0.0675936218237957, 0.07587021885296978, -0.042784012902300064, 0.024412238133112024], \"topics\": [1, 2, 3, 4, 5], \"cluster\": [1, 1, 1, 1, 1], \"Freq\": [30.95371719324762, 23.021040756621865, 18.91744230564169, 15.219135410017943, 11.888664334470883]}, \"tinfo\": {\"Term\": [\"drag\", \"king\", \"ho\", \"presidentelect\", \"park\", \"offering\", \"game\", \"world\", \"ever\", \"object\", \"many\", \"industry\", \"season\", \"a\\u2026\", \"donald\", \"article\", \"access\", \"event\", \"month\", \"even\", \"release\", \"people\", \"one\", \"show\", \"anime\", \"capability\", \"year\", \"part\", \"content\", \"holiday\", \"access\", \"chess\", \"continue\", \"indian\", \"join\", \"ag\\u2026\", \"email\", \"pushing\", \"charge\", \"premium\", \"decad\\u2026\", \"select\", \"5144\", \"special\", \"fox\", \"entering\", \"korea\", \"alliance\", \"champion\", \"might\", \"content\", \"go\", \"president\", \"3392\", \"mockery\", \"4195\", \"harness\", \"se\\u2026\", \"state\", \"viral\", \"world\", \"plus\", \"raised\", \"netflix\", \"south\", \"around\", \"1\", \"free\", \"char\", \"news\", \"new\", \"\\u2019\", \"first\", \"ai\", \"tuesday\", \"article\", \"u\", \"time\", \"country\", \"french\", \"bashar\", \"trump\", \"pariah\", \"alassad\", \"stepped\", \"ruler\", \"report\", \"flag\", \"embraer\", \"e195e2\", \"luxair\", \"hussain\", \"zakir\", \"behind\", \"framework\", \"old\", \"ubs\", \"jazz\", \"laptop\", \"llc\", \"russia\", \"official\", \"121624\", \"kornick\", \"harris\", \"flawless\", \"4837\", \"ny\", \"lindsay\", \"post\", \"campaignfox\", \"hispanic\", \"ran\", \"suggests\", \"skip\", \"rep\", \"slave\", \"comment\", \"amd\", \"\\u2013\", \"headline\", \"new\", \"char\", \"africa\", \"flag\", \"according\", \"something\", \"legendary\", \"globalstar\", \"brought\", \"time\", \"quarter\", \"tuesday\", \"year\", \"country\", \"u\", \"report\", \"share\", \"news\", \"\\u2019\", \"free\", \"syria\", \"\\u2026\", \"engagement\", \"offering\", \"customer\", \"event\", \"promoter\", \"6495\", \"12\", \"campbell\", \"experi\\u2026\", \"worldwide\", \"dale\", \"gaming\", \"2871\", \"included\", \"batman\", \"ev\\u2026\", \"meta\", \"answere\\u2026\", \"meghan\", \"cnn\", \"shadow\", \"2026\", \"lot\", \"digital\", \"experience\", \"lavo\", \"boston\", \"gave\", \"headset\", \"idris\", \"booth\", \"plan\", \"buy\", \"today\", \"leader\", \"author\", \"election\", \"article\", \"donald\", \"presidentelect\", \"trump\", \"season\", \"char\", \"quest\", \"day\", \"best\", \"abc\", \"one\", \"london\", \"year\", \"world\", \"first\", \"even\", \"holding\", \"\\u2026\", \"conference\", \"news\", \"monday\", \"\\u2019\", \"latest\", \"ho\", \"release\", \"capability\", \"anime\", \"part\", \"vibrancy\", \"like\", \"proudly\", \"britain\", \"bigger\", \"1801\", \"intelligence\", \"gemini\", \"agentic\", \"connected\", \"highly\", \"also\", \"artificial\", \"synagogue\", \"feel\", \"r\\u2026\", \"rest\", \"mark\", \"advancement\", \"deliver\", \"6541\", \"blending\", \"significant\", \"versatil\\u2026\", \"turn\", \"20\", \"holiday\", \"month\", \"show\", \"char\", \"season\", \"search\", \"\\u2019\", \"return\", \"subscription\", \"december\", \"together\", \"openai\", \"\\u2026\", \"said\", \"hold\", \"take\", \"something\", \"news\", \"u\", \"share\", \"even\", \"chatgpt\", \"ai\", \"christmas\", \"2024\", \"drag\", \"king\", \"many\", \"object\", \"industry\", \"a\\u2026\", \"park\", \"flying\", \"pivotal\", \"coup\", \"reform\", \"18850\", \"alarm\", \"certainly\", \"neighbouring\", \"xbox\", \"dark\", \"amazing\", \"dramani\", \"rising\", \"sky\", \"believe\", \"instability\", \"intheair\", \"mahama\", \"john\", \"7110\", \"youve\", \"remembered\", \"keen\", \"game\", \"ever\", \"coffee\", \"presidentelect\", \"char\", \"people\", \"get\", \"year\", \"report\", \"donald\", \"war\", \"trump\", \"one\", \"first\", \"national\", \"even\", \"2024\", \"country\", \"new\", \"foreign\", \"growth\", \"major\"], \"Freq\": [2.0, 1.0, 2.0, 4.0, 2.0, 2.0, 2.0, 8.0, 2.0, 1.0, 1.0, 1.0, 2.0, 1.0, 5.0, 4.0, 3.0, 2.0, 3.0, 2.0, 1.0, 2.0, 3.0, 2.0, 1.0, 1.0, 6.0, 1.0, 4.0, 2.0, 2.9463414640144787, 2.2448514368562718, 1.5441268897788076, 1.5439281945903849, 1.543823026103557, 1.5437215202008474, 1.5437517365198241, 1.5437465042567977, 1.5437009835684692, 1.5435963383079438, 1.5436334873754303, 1.5435156306507636, 1.5435828652306511, 1.543448396070876, 1.543346236135288, 1.543274684938404, 1.5420520358757406, 1.5397226323764455, 1.5077159637987274, 1.8918697616400135, 3.1910232737880806, 1.7941109440966547, 2.2591616762331177, 0.842340912743177, 0.8423249543409469, 0.8423232538554634, 0.8423091267452923, 0.8423216187732676, 0.842281461154541, 0.8422732203402746, 5.256342947168643, 2.0200510493233117, 2.058389671808845, 1.5604272203976952, 1.642518026308891, 2.277070142893129, 1.2067041335106148, 3.470847578177619, 17.82439465770532, 4.334457967139019, 3.3895491985017516, 3.2421945445718414, 2.84839140725751, 2.0839426055568113, 2.2762188536987553, 1.9355038267278581, 1.9279990610627047, 1.6316714142488593, 1.626809987864577, 1.5604680320493, 1.5598044502909933, 1.596821010716364, 1.5581795710081856, 1.5553349204073788, 1.561813116066778, 1.5616633425376512, 1.5642831366349041, 1.5619703455707175, 1.3465972079751216, 1.3408133783165286, 1.3370245530279214, 1.2782870598070974, 1.2731860670175212, 1.2909374907943443, 1.2253654027030378, 1.233814426671873, 1.1856774918543014, 1.2100514312346946, 1.1822895742074124, 1.6024167535632547, 1.5612919570391541, 1.127394023375991, 0.7486847574392979, 0.748669094704448, 0.7485624227245539, 0.7485141698271279, 0.7485092569817247, 0.7485013283302323, 0.7485063871017367, 0.7485044900624225, 0.748495150791953, 0.7484876112767301, 0.7484799258354063, 0.7484779315120248, 0.7484574045738053, 0.7484735537289922, 0.7484491354280771, 0.7484311378756098, 1.0806965036195357, 2.1134407175814083, 1.0136261436063416, 3.180355279225873, 12.09322831940377, 1.018795624379361, 1.7555552035538111, 1.4607472195614823, 1.1853925468209134, 0.9713633180619021, 0.9658720215939537, 1.1739657548333096, 1.911448057344407, 1.5595600087873935, 1.6968997208017977, 2.1387550047572024, 1.735098698999116, 1.7719467906366437, 1.7080148146374812, 1.3888404794220155, 1.9010071420957428, 1.6644885609098354, 1.5116067462890563, 1.242127155662293, 1.3059956051654495, 1.2303465415215884, 1.802521564453445, 1.2387881044770528, 1.6428678614569032, 1.0865912230990622, 0.6761229197162949, 0.6760667199500305, 0.6760692781186229, 0.6760570468750405, 0.676053209622152, 0.6760633623537531, 0.6760473738000505, 0.6760331439872553, 0.6760274680506909, 0.6760240305116448, 0.6760310654752739, 0.676027947707302, 0.6760426571767083, 0.6760271482796169, 0.6760177949757009, 0.6760134780662012, 0.6760214723430524, 0.6760175551473954, 0.6759988485395634, 0.6760113995542198, 0.6760095608705441, 0.6760072425302572, 0.6759970098558876, 0.6759888556934993, 0.6759920534042398, 0.6759832596997034, 0.9735024240202109, 1.2392644834346196, 1.23959392758366, 1.2388231194096615, 0.9445668191859962, 1.1807261513629523, 1.8678805335918398, 2.0954844706253444, 1.7662943797031947, 2.154128566979754, 1.2585422823475938, 8.71860949735755, 0.9011032150299841, 1.2397785154361556, 1.2397633263101382, 1.0813538525627269, 1.4653090568255172, 0.8657952122320919, 2.030856498162229, 2.038867562994878, 1.784746129989128, 1.0210994690221677, 1.0660058802642955, 1.2906840718557755, 0.9259468693151122, 1.5542447472536522, 0.9944093766127039, 1.0139575419687878, 0.9536997208891828, 1.6603379981645259, 1.1290200218352047, 1.1024106723576785, 1.1022031948079747, 1.0878801693184328, 0.6378304932034848, 0.6376885518047879, 0.637682570585903, 0.6376693218645022, 0.6376580668827297, 0.6376294470719367, 0.6376500919242166, 0.6376457828740523, 0.6376384510573547, 0.6376101528174695, 0.6376159410938097, 0.6376037857134953, 0.6376063582807576, 0.6375771596423306, 0.6375612097253044, 0.637558508529679, 0.6375498904293503, 0.6375494402300794, 0.6374988892833753, 0.6374638380544266, 0.6374187538131549, 0.6374020964401316, 0.6373478795850788, 0.6372762335868238, 0.6372128198038084, 0.9217274397174444, 1.0833961845802564, 1.2588097704404098, 0.9722030745148955, 6.039428364274797, 1.0809887761362027, 0.970747258701164, 1.8274523534081593, 0.7987944832647916, 0.8014901478705853, 1.1046323414453947, 0.783488608452691, 0.7723828998955543, 1.1444170941567537, 1.108488877028298, 0.7481300863444699, 0.7440371961443435, 0.7966296679135723, 1.170480158976132, 1.0042577128023353, 0.8707720211255758, 0.77806036290089, 0.7572828947786185, 0.7200433114882089, 0.6632124065259896, 0.702749099439082, 1.9680675018449147, 1.4946923377218184, 1.0333444341989693, 1.0333465442799448, 1.0327958131453399, 0.9715686987598174, 1.1618511790481147, 0.5636325213694078, 0.5635824823062745, 0.5635700227805144, 0.563584140227041, 0.5635515846919904, 0.5635396778064858, 0.5635476659701788, 0.5635395773264393, 0.5635265651604238, 0.5634929545848855, 0.5634930048249087, 0.5634568822482091, 0.5634365852788258, 0.5634542195269782, 0.5634510041654917, 0.5634506524853291, 0.5634430662418219, 0.5634321641567819, 0.5634415590411251, 0.5634296019155973, 0.5634252310335767, 0.5634004627021262, 0.5634014675025907, 1.2619015728217833, 1.031190342963125, 0.7624949425842436, 1.2408620558951364, 3.95423226389626, 0.9040876058030576, 0.7470257379927728, 1.1293152376066282, 0.9343358175469182, 0.9213486710629122, 0.640084724073545, 0.8952641514839419, 0.7432849663434002, 0.8084383385440461, 0.6324012661214539, 0.6220269022853468, 0.5946985402113436, 0.592359113529818, 0.5907504279861167, 0.5642716749448908, 0.5636306122485252, 0.5636180020026954], \"Total\": [2.0, 1.0, 2.0, 4.0, 2.0, 2.0, 2.0, 8.0, 2.0, 1.0, 1.0, 1.0, 2.0, 1.0, 5.0, 4.0, 3.0, 2.0, 3.0, 2.0, 1.0, 2.0, 3.0, 2.0, 1.0, 1.0, 6.0, 1.0, 4.0, 2.0, 3.3868632024179957, 2.684647843515194, 1.9829047935492532, 1.9828315170502306, 1.9828278122787955, 1.9827203701018086, 1.9827845772443249, 1.9827784335587535, 1.9827318189511853, 1.9827312355397813, 1.9827990312401849, 1.9826588287532572, 1.9827732049325388, 1.9826486775323624, 1.9826483130656616, 1.9826186522752165, 1.9826676818380085, 1.9822865478329907, 1.9787345900436701, 2.6114479895025915, 4.5395177141927485, 2.568175569253294, 3.300847052609518, 1.2807025598905932, 1.2806906282491985, 1.2806969394330003, 1.2806833512617144, 1.2807065699940414, 1.2806748840829842, 1.2806701153256934, 8.32801111805464, 3.1834157655550457, 3.259771437357324, 2.4582756383666773, 2.616280535417206, 3.7970282413925838, 1.9044770788641967, 6.382863483717274, 48.629893102637695, 9.347143622994636, 8.177451900778056, 7.97403097635059, 7.245953870381145, 3.7481072409412777, 4.524646495206214, 4.284137905860235, 5.468176581451764, 4.973901270489591, 4.870756765944508, 2.5981919082364686, 2.5974859708978473, 5.8457441553017455, 2.5968716568641517, 2.598825757561294, 3.2084589151308727, 3.203735759406373, 5.348595196229628, 3.8305309598204125, 1.8241472728039791, 1.8235184887284797, 1.8231484046657782, 1.8034374345625277, 1.8021682399168357, 1.8335986765876124, 1.8123839809219404, 1.8254352160069836, 1.7805491728404579, 1.840010729228851, 1.808188209369753, 2.4675518243913057, 2.408677373465966, 1.8061065686601985, 1.2026045108404255, 1.2025921986103485, 1.2025622016793407, 1.202548705722486, 1.202543534196949, 1.2025529863814686, 1.202569472081264, 1.2025684905261949, 1.202554967862383, 1.2025549396288393, 1.2025519262925362, 1.202555709741032, 1.2025245667426685, 1.2025517227484421, 1.2025424888698355, 1.2025292134029166, 1.7983817545147018, 4.339360131030326, 1.787560406805753, 8.177451900778056, 48.629893102637695, 1.8051451852361238, 3.8305309598204125, 3.0742700076301483, 2.330716280521865, 1.7633992060888988, 1.7584625897295645, 2.374633036685959, 4.973901270489591, 3.7411823765191823, 4.524646495206214, 6.901344413269664, 4.870756765944508, 5.468176581451764, 5.348595196229628, 3.5928580496810025, 9.347143622994636, 7.97403097635059, 6.382863483717274, 3.217689808891488, 4.606459192985547, 3.2152020503169654, 2.26966446789831, 1.7058562645966082, 2.308777920535677, 1.7432701454831119, 1.1422149504198158, 1.142199641932682, 1.142207392970379, 1.1422056622991594, 1.1422092484379414, 1.1422268191587128, 1.1422057358385111, 1.1422017196685934, 1.1421973454431515, 1.1421935716127343, 1.1422062364039591, 1.1422014507377891, 1.1422280536642893, 1.1422056723648104, 1.1421932330405078, 1.142186481987598, 1.1422089443905015, 1.142203696264457, 1.1421771652158996, 1.1422017248817573, 1.142200766883629, 1.1422091550865319, 1.142197737080831, 1.1421846573219243, 1.1421938793288324, 1.1421985994646215, 1.7175674043769344, 2.2684513641384796, 2.4034454052666705, 2.4078314871571154, 1.7263576949498616, 2.3361031251510784, 4.284137905860235, 5.179738862188331, 4.412822514005045, 5.8457441553017455, 2.7927807773322866, 48.629893102637695, 1.7411307590820257, 2.8351261313730154, 2.869540072936646, 2.3816718294956862, 3.9005916938364464, 1.7026118994845776, 6.901344413269664, 8.32801111805464, 7.245953870381145, 2.6876236973174987, 3.0381242552781114, 4.606459192985547, 2.360157800333349, 9.347143622994636, 4.206652517342582, 7.97403097635059, 4.159841376565124, 2.1864341403773704, 1.6489640594683683, 1.6534986847148845, 1.663433748721571, 1.6468499853666339, 1.1102636793208145, 1.110251509031043, 1.110268501502562, 1.1102571804968007, 1.1102415046045517, 1.1102226544391443, 1.1102590510647283, 1.1102521053993915, 1.1102730797380582, 1.1102455421915998, 1.110259884883144, 1.1102400745361243, 1.110252984803384, 1.1102228167846857, 1.1102269386757018, 1.1102367646007323, 1.1102340623043105, 1.1102382629988272, 1.1102573421084312, 1.1102652009388854, 1.1102278281386901, 1.1102560830705663, 1.1102336668375548, 1.1101926153990875, 1.110189090152409, 1.6568360691013027, 2.2222259828885917, 3.007505031994822, 2.1465330401913625, 48.629893102637695, 2.7927807773322866, 2.3785428398205726, 7.97403097635059, 1.7063031812075735, 1.7439836339998849, 3.557687460372169, 1.7655394918331646, 1.7501926732977733, 4.606459192985547, 4.690471006271868, 1.7150086885293951, 1.7553703104120202, 2.330716280521865, 9.347143622994636, 5.468176581451764, 3.5928580496810025, 2.6876236973174987, 2.449459869450985, 3.7481072409412777, 1.6965110054477857, 3.5073554021304716, 2.4595541004726833, 1.9900169417062525, 1.5185752014562781, 1.5185799746437902, 1.5186238681434632, 1.5386832273471964, 2.0963732031604616, 1.0485332200307582, 1.0485240991277642, 1.0485159663311725, 1.0485460065504957, 1.0485326407917377, 1.0485236262429636, 1.0485405325098975, 1.0485272543475321, 1.048541968246108, 1.0485368233449095, 1.0485454775885588, 1.04853447408692, 1.048512136867049, 1.0485492793524016, 1.048543374715238, 1.048559994838473, 1.0485469437048436, 1.0485313693588971, 1.0485541823677145, 1.048548753779662, 1.0485450958935827, 1.0485326196684572, 1.04855290629312, 2.7043428725296237, 2.2210571295798136, 1.5850082331867528, 4.412822514005045, 48.629893102637695, 2.7937295969991798, 2.2242224099022, 6.901344413269664, 5.348595196229628, 5.179738862188331, 1.6199750651083082, 5.8457441553017455, 3.9005916938364464, 7.245953870381145, 2.2961301764898785, 2.6876236973174987, 3.5073554021304716, 4.870756765944508, 8.177451900778056, 1.612071226750614, 1.7286965101350598, 2.2164109533415792], \"Category\": [\"Default\", \"Default\", \"Default\", \"Default\", \"Default\", \"Default\", \"Default\", \"Default\", \"Default\", \"Default\", \"Default\", \"Default\", \"Default\", \"Default\", \"Default\", \"Default\", \"Default\", \"Default\", \"Default\", \"Default\", \"Default\", \"Default\", \"Default\", \"Default\", \"Default\", \"Default\", \"Default\", \"Default\", \"Default\", \"Default\", \"Topic1\", \"Topic1\", \"Topic1\", \"Topic1\", \"Topic1\", \"Topic1\", \"Topic1\", \"Topic1\", \"Topic1\", \"Topic1\", \"Topic1\", \"Topic1\", \"Topic1\", \"Topic1\", \"Topic1\", \"Topic1\", \"Topic1\", \"Topic1\", \"Topic1\", \"Topic1\", \"Topic1\", \"Topic1\", \"Topic1\", \"Topic1\", \"Topic1\", \"Topic1\", \"Topic1\", \"Topic1\", \"Topic1\", \"Topic1\", \"Topic1\", \"Topic1\", \"Topic1\", \"Topic1\", \"Topic1\", \"Topic1\", \"Topic1\", \"Topic1\", \"Topic1\", \"Topic1\", \"Topic1\", \"Topic1\", \"Topic1\", \"Topic1\", \"Topic1\", \"Topic1\", \"Topic1\", \"Topic1\", \"Topic1\", \"Topic1\", \"Topic1\", \"Topic1\", \"Topic1\", \"Topic1\", \"Topic1\", \"Topic1\", \"Topic1\", \"Topic1\", \"Topic2\", \"Topic2\", \"Topic2\", \"Topic2\", \"Topic2\", \"Topic2\", \"Topic2\", \"Topic2\", \"Topic2\", \"Topic2\", \"Topic2\", \"Topic2\", \"Topic2\", \"Topic2\", \"Topic2\", \"Topic2\", \"Topic2\", \"Topic2\", \"Topic2\", \"Topic2\", \"Topic2\", \"Topic2\", \"Topic2\", \"Topic2\", \"Topic2\", \"Topic2\", \"Topic2\", \"Topic2\", \"Topic2\", \"Topic2\", \"Topic2\", \"Topic2\", \"Topic2\", \"Topic2\", \"Topic2\", \"Topic2\", \"Topic2\", \"Topic2\", \"Topic2\", \"Topic2\", \"Topic2\", \"Topic2\", \"Topic2\", \"Topic2\", \"Topic2\", \"Topic2\", \"Topic2\", \"Topic2\", \"Topic2\", \"Topic2\", \"Topic2\", \"Topic2\", \"Topic2\", \"Topic2\", \"Topic2\", \"Topic2\", \"Topic3\", \"Topic3\", \"Topic3\", \"Topic3\", \"Topic3\", \"Topic3\", \"Topic3\", \"Topic3\", \"Topic3\", \"Topic3\", \"Topic3\", \"Topic3\", \"Topic3\", \"Topic3\", \"Topic3\", \"Topic3\", \"Topic3\", \"Topic3\", \"Topic3\", \"Topic3\", \"Topic3\", \"Topic3\", \"Topic3\", \"Topic3\", \"Topic3\", \"Topic3\", \"Topic3\", \"Topic3\", \"Topic3\", \"Topic3\", \"Topic3\", \"Topic3\", \"Topic3\", \"Topic3\", \"Topic3\", \"Topic3\", \"Topic3\", \"Topic3\", \"Topic3\", \"Topic3\", \"Topic3\", \"Topic3\", \"Topic3\", \"Topic3\", \"Topic3\", \"Topic3\", \"Topic3\", \"Topic3\", \"Topic3\", \"Topic3\", \"Topic3\", \"Topic3\", \"Topic3\", \"Topic3\", \"Topic3\", \"Topic3\", \"Topic3\", \"Topic3\", \"Topic3\", \"Topic4\", \"Topic4\", \"Topic4\", \"Topic4\", \"Topic4\", \"Topic4\", \"Topic4\", \"Topic4\", \"Topic4\", \"Topic4\", \"Topic4\", \"Topic4\", \"Topic4\", \"Topic4\", \"Topic4\", \"Topic4\", \"Topic4\", \"Topic4\", \"Topic4\", \"Topic4\", \"Topic4\", \"Topic4\", \"Topic4\", \"Topic4\", \"Topic4\", \"Topic4\", \"Topic4\", \"Topic4\", \"Topic4\", \"Topic4\", \"Topic4\", \"Topic4\", \"Topic4\", \"Topic4\", \"Topic4\", \"Topic4\", \"Topic4\", \"Topic4\", \"Topic4\", \"Topic4\", \"Topic4\", \"Topic4\", \"Topic4\", \"Topic4\", \"Topic4\", \"Topic4\", \"Topic4\", \"Topic4\", \"Topic4\", \"Topic4\", \"Topic4\", \"Topic4\", \"Topic4\", \"Topic4\", \"Topic4\", \"Topic4\", \"Topic5\", \"Topic5\", \"Topic5\", \"Topic5\", \"Topic5\", \"Topic5\", \"Topic5\", \"Topic5\", \"Topic5\", \"Topic5\", \"Topic5\", \"Topic5\", \"Topic5\", \"Topic5\", \"Topic5\", \"Topic5\", \"Topic5\", \"Topic5\", \"Topic5\", \"Topic5\", \"Topic5\", \"Topic5\", \"Topic5\", \"Topic5\", \"Topic5\", \"Topic5\", \"Topic5\", \"Topic5\", \"Topic5\", \"Topic5\", \"Topic5\", \"Topic5\", \"Topic5\", \"Topic5\", \"Topic5\", \"Topic5\", \"Topic5\", \"Topic5\", \"Topic5\", \"Topic5\", \"Topic5\", \"Topic5\", \"Topic5\", \"Topic5\", \"Topic5\", \"Topic5\", \"Topic5\", \"Topic5\", \"Topic5\", \"Topic5\", \"Topic5\", \"Topic5\"], \"logprob\": [30.0, 29.0, 28.0, 27.0, 26.0, 25.0, 24.0, 23.0, 22.0, 21.0, 20.0, 19.0, 18.0, 17.0, 16.0, 15.0, 14.0, 13.0, 12.0, 11.0, 10.0, 9.0, 8.0, 7.0, 6.0, 5.0, 4.0, 3.0, 2.0, 1.0, -5.2506, -5.5225, -5.8967, -5.8968, -5.8969, -5.897, -5.8969, -5.897, -5.897, -5.897, -5.897, -5.8971, -5.8971, -5.8971, -5.8972, -5.8973, -5.898, -5.8996, -5.9206, -5.6936, -5.1708, -5.7467, -5.5162, -6.5027, -6.5028, -6.5028, -6.5028, -6.5028, -6.5028, -6.5028, -4.6717, -5.628, -5.6092, -5.8862, -5.8349, -5.5083, -6.1433, -5.0868, -3.4506, -4.8646, -5.1105, -5.1549, -5.2844, -5.5969, -5.5086, -5.6708, -5.6747, -5.8416, -5.8445, -5.8862, -5.8866, -5.8631, -5.8876, -5.8895, -5.8853, -5.8854, -5.8837, -5.8852, -5.7375, -5.7418, -5.7446, -5.7896, -5.7936, -5.7797, -5.8318, -5.825, -5.8648, -5.8444, -5.8676, -5.5636, -5.5896, -5.9152, -6.3245, -6.3245, -6.3247, -6.3247, -6.3248, -6.3248, -6.3248, -6.3248, -6.3248, -6.3248, -6.3248, -6.3248, -6.3248, -6.3248, -6.3248, -6.3249, -5.9575, -5.2868, -6.0215, -4.8781, -3.5424, -6.0165, -5.4723, -5.6561, -5.865, -6.0641, -6.0698, -5.8747, -5.3872, -5.5907, -5.5063, -5.2749, -5.484, -5.463, -5.4997, -5.7066, -5.3927, -5.5256, -5.6219, -5.8183, -5.7681, -5.8278, -5.2496, -5.6246, -5.3423, -5.7557, -6.2301, -6.2302, -6.2302, -6.2302, -6.2302, -6.2302, -6.2302, -6.2303, -6.2303, -6.2303, -6.2303, -6.2303, -6.2303, -6.2303, -6.2303, -6.2303, -6.2303, -6.2303, -6.2303, -6.2303, -6.2303, -6.2303, -6.2303, -6.2303, -6.2303, -6.2303, -5.8656, -5.6242, -5.624, -5.6246, -5.8958, -5.6726, -5.214, -5.099, -5.2699, -5.0714, -5.6088, -3.6733, -5.9429, -5.6238, -5.6238, -5.7605, -5.4567, -5.9829, -5.1303, -5.1264, -5.2595, -5.8179, -5.7748, -5.5836, -5.9157, -5.3978, -5.8444, -5.8249, -5.8862, -5.1142, -5.4999, -5.5237, -5.5239, -5.537, -6.0709, -6.0711, -6.0711, -6.0712, -6.0712, -6.0712, -6.0712, -6.0712, -6.0712, -6.0713, -6.0712, -6.0713, -6.0713, -6.0713, -6.0713, -6.0713, -6.0713, -6.0713, -6.0714, -6.0715, -6.0716, -6.0716, -6.0717, -6.0718, -6.0719, -5.7027, -5.5411, -5.3911, -5.6494, -3.8229, -5.5433, -5.6509, -5.0183, -5.8459, -5.8425, -5.5217, -5.8652, -5.8795, -5.4863, -5.5182, -5.9114, -5.9169, -5.8486, -5.4638, -5.617, -5.7596, -5.8722, -5.8992, -5.9497, -6.0319, -5.974, -4.6972, -4.9723, -5.3415, -5.3415, -5.342, -5.4031, -5.2242, -5.9476, -5.9477, -5.9477, -5.9477, -5.9478, -5.9478, -5.9478, -5.9478, -5.9478, -5.9479, -5.9479, -5.9479, -5.948, -5.9479, -5.9479, -5.9479, -5.9479, -5.948, -5.9479, -5.948, -5.948, -5.948, -5.948, -5.1416, -5.3435, -5.6454, -5.1584, -3.9995, -5.4751, -5.6659, -5.2526, -5.4422, -5.4562, -5.8204, -5.4849, -5.6709, -5.5869, -5.8325, -5.849, -5.894, -5.8979, -5.9006, -5.9465, -5.9476, -5.9476], \"loglift\": [30.0, 29.0, 28.0, 27.0, 26.0, 25.0, 24.0, 23.0, 22.0, 21.0, 20.0, 19.0, 18.0, 17.0, 16.0, 15.0, 14.0, 13.0, 12.0, 11.0, 10.0, 9.0, 8.0, 7.0, 6.0, 5.0, 4.0, 3.0, 2.0, 1.0, 1.0333, 0.9938, 0.9226, 0.9225, 0.9224, 0.9224, 0.9224, 0.9224, 0.9224, 0.9223, 0.9223, 0.9223, 0.9223, 0.9223, 0.9222, 0.9222, 0.9213, 0.92, 0.9008, 0.8503, 0.8202, 0.814, 0.7935, 0.7537, 0.7537, 0.7537, 0.7537, 0.7537, 0.7536, 0.7536, 0.7125, 0.7178, 0.7129, 0.7182, 0.7072, 0.6613, 0.7164, 0.5635, 0.169, 0.4042, 0.292, 0.2727, 0.239, 0.5857, 0.4857, 0.3781, 0.1302, 0.0581, 0.076, 0.6628, 0.6627, -0.125, 0.6619, 0.6593, 0.4527, 0.4541, -0.0567, 0.2756, 1.1652, 1.1613, 1.1586, 1.1246, 1.1213, 1.1178, 1.0774, 1.0771, 1.0622, 1.0497, 1.0439, 1.037, 1.0352, 0.9975, 0.9948, 0.9948, 0.9947, 0.9947, 0.9947, 0.9946, 0.9946, 0.9946, 0.9946, 0.9946, 0.9946, 0.9946, 0.9946, 0.9946, 0.9946, 0.9946, 0.9595, 0.7494, 0.9014, 0.5244, 0.0772, 0.8967, 0.6885, 0.7246, 0.7927, 0.8725, 0.8696, 0.7643, 0.5124, 0.5938, 0.488, 0.2973, 0.4366, 0.3419, 0.3273, 0.5183, -0.1239, -0.0979, 0.0283, 0.5169, 0.2083, 0.5082, 1.4346, 1.3452, 1.3248, 1.1924, 1.1407, 1.1407, 1.1407, 1.1406, 1.1406, 1.1406, 1.1406, 1.1406, 1.1406, 1.1406, 1.1406, 1.1406, 1.1406, 1.1406, 1.1406, 1.1406, 1.1406, 1.1406, 1.1406, 1.1406, 1.1406, 1.1406, 1.1406, 1.1406, 1.1406, 1.1405, 1.0973, 1.0605, 1.003, 1.0005, 1.062, 0.9827, 0.835, 0.7601, 0.7495, 0.6668, 0.868, -0.0537, 1.0064, 0.8379, 0.8259, 0.8755, 0.686, 0.9888, 0.4418, 0.2579, 0.2639, 0.6973, 0.6178, 0.3928, 0.7294, -0.129, 0.2228, -0.3972, 0.1922, 1.6074, 1.5038, 1.4772, 1.471, 1.468, 1.3283, 1.3281, 1.3281, 1.3281, 1.3281, 1.3281, 1.3281, 1.3281, 1.328, 1.328, 1.328, 1.328, 1.328, 1.328, 1.3279, 1.3279, 1.3279, 1.3279, 1.3278, 1.3278, 1.3277, 1.3277, 1.3276, 1.3275, 1.3274, 1.2962, 1.1642, 1.0117, 1.0906, -0.2033, 0.9335, 0.9864, 0.4093, 1.1236, 1.1052, 0.713, 1.0702, 1.0646, 0.4901, 0.4401, 1.053, 1.0243, 0.8091, -0.195, 0.1879, 0.4653, 0.643, 0.7087, 0.2329, 0.9434, 0.275, 1.9067, 1.8434, 1.7446, 1.7446, 1.744, 1.6698, 1.5394, 1.5088, 1.5088, 1.5087, 1.5087, 1.5087, 1.5087, 1.5087, 1.5087, 1.5086, 1.5086, 1.5086, 1.5085, 1.5085, 1.5085, 1.5085, 1.5085, 1.5085, 1.5085, 1.5085, 1.5085, 1.5085, 1.5084, 1.5084, 1.3673, 1.3623, 1.3978, 0.8609, -0.3799, 1.0014, 1.0385, 0.3195, 0.3848, 0.4029, 1.201, 0.2532, 0.4718, -0.0635, 0.8401, 0.6662, 0.355, 0.0227, -0.4982, 1.0798, 1.0089, 0.7603]}, \"token.table\": {\"Topic\": [1, 3, 2, 4, 5, 4, 1, 2, 4, 5, 3, 3, 1, 1, 2, 1, 3, 4, 5, 1, 3, 1, 1, 2, 4, 2, 4, 1, 1, 3, 4, 5, 1, 2, 1, 4, 5, 2, 4, 3, 1, 2, 1, 3, 4, 3, 5, 1, 2, 3, 2, 5, 1, 3, 5, 4, 4, 3, 3, 4, 2, 4, 3, 2, 3, 4, 5, 1, 1, 2, 3, 4, 5, 1, 1, 4, 1, 4, 3, 5, 2, 2, 3, 4, 1, 3, 1, 1, 2, 3, 5, 5, 3, 3, 5, 1, 3, 5, 1, 1, 2, 4, 4, 3, 1, 3, 5, 5, 5, 2, 1, 3, 1, 2, 1, 2, 1, 3, 4, 5, 3, 1, 5, 3, 3, 3, 4, 1, 2, 3, 4, 5, 1, 2, 2, 5, 3, 5, 1, 2, 1, 2, 3, 1, 2, 1, 5, 3, 3, 4, 2, 5, 2, 1, 1, 5, 1, 2, 2, 3, 4, 2, 4, 2, 4, 1, 2, 3, 3, 4, 2, 3, 3, 1, 5, 5, 4, 5, 2, 5, 1, 5, 5, 1, 2, 2, 1, 2, 3, 4, 3, 1, 3, 2, 4, 2, 2, 3, 3, 2, 5, 2, 5, 5, 4, 3, 3, 1, 1, 1, 2, 3, 4, 1, 4, 1, 2, 5, 5, 1, 5, 1, 2, 3, 5, 1, 2, 3, 4, 2, 5, 3, 2, 2, 2, 3, 5, 4, 1, 2, 2, 5, 4, 1, 4, 5, 5, 3, 1, 4, 2, 1, 1, 2, 1, 3, 5, 3, 4, 1, 1, 2, 3, 3, 1, 2, 2, 5, 4, 5, 2, 1, 2, 3, 5, 4, 2, 4, 5, 1, 2, 2, 4, 1, 2, 3, 4, 5, 1, 4, 3, 4, 1, 1, 3, 1, 2, 4, 4, 5, 4, 2, 5, 2, 2, 4, 1, 2, 1, 1, 1, 2, 4, 2, 4, 1, 2, 4, 1, 2, 3, 1, 3, 1, 4, 1, 2, 3, 5, 1, 2, 4, 1, 2, 4, 2, 4, 4, 1, 5, 1, 3, 3, 5, 1, 2, 3, 4, 5, 5, 2, 1, 2, 3, 1, 2, 3, 4, 1, 2, 3, 4], \"Freq\": [0.5250785168789671, 0.8755036889242319, 0.8315285623709844, 0.9007202258047726, 0.9537137530071633, 0.6035600133587252, 0.28511510393060546, 0.28511510393060546, 0.28511510393060546, 0.28511510393060546, 0.8754965585859721, 0.8755020963286128, 0.7808214267061566, 0.7808248534135854, 0.8315707261839744, 1.0086882327361526, 0.8754919550233996, 0.9007160284177993, 0.953699097343199, 0.4198731276137854, 0.4198731276137854, 0.8857753681513322, 0.32528047228059404, 0.32528047228059404, 0.9006920846845765, 0.5539720617370697, 0.9006793177728182, 1.0087151119032, 0.533602661672437, 0.2668013308362185, 0.2668013308362185, 0.9537219524400877, 0.7695783352081194, 0.3847891676040597, 1.0089358686242276, 0.9007060931554066, 0.9537020771858141, 0.5560554634685185, 0.6011661124277106, 0.8754819116830312, 0.526727712529862, 0.263363856264931, 0.46683838007740536, 0.46683838007740536, 0.9006956195457482, 0.579254231568182, 0.6499063499405747, 0.7699752847206639, 0.38498764236033195, 0.8755083418899282, 0.5453756117783816, 0.9537039898531414, 0.348487902096664, 0.348487902096664, 0.348487902096664, 0.9007049329831911, 0.9006931060754579, 0.8755044879837239, 0.8754963970887115, 0.9006922157914219, 0.4211176988405759, 0.4211176988405759, 0.4408293762911613, 0.8315628197666197, 0.8754977477421502, 0.6047782252529772, 0.9537065749917117, 1.0107469743862214, 0.37014270136291283, 0.24676180090860858, 0.18507135068145641, 0.12338090045430429, 0.08225393363620286, 1.008709287299353, 0.4082532694132838, 0.4082532694132838, 0.7449766660573487, 0.589445041493294, 0.8755086014106468, 0.6309115492664924, 0.8315806292723654, 0.42370048301802526, 0.42370048301802526, 0.900701657424377, 0.6608631552687932, 0.2202877184229311, 1.0086212946311697, 0.410613811386283, 0.410613811386283, 0.2053069056931415, 0.2053069056931415, 0.9537289198361631, 0.5862158616490908, 0.8754828578937872, 0.9537099486977735, 0.3527179933669169, 0.3527179933669169, 0.3527179933669169, 1.008675094393735, 0.2810814640517608, 0.2810814640517608, 0.2810814640517608, 0.9006857092831149, 0.8755209178174871, 0.19305992572326724, 0.3861198514465345, 0.19305992572326724, 0.8131555226273067, 0.9537120854999216, 0.548390381661164, 0.428063294481201, 0.428063294481201, 1.0086824473789286, 0.5482013513431154, 0.6220448882218252, 0.3110224441109126, 1.008766863816618, 0.37207589775238775, 0.37207589775238775, 0.37207589775238775, 0.8662591504409245, 0.45023605502177383, 0.45023605502177383, 0.8754986342469367, 0.8755020923327022, 0.8754990742972575, 0.9007167500302394, 0.41402416488778954, 0.13800805496259652, 0.27601610992519304, 0.13800805496259652, 0.13800805496259652, 0.5221208289343173, 0.5221208289343173, 0.8315671500383882, 0.9537132261490633, 0.620319985498196, 0.620319985498196, 1.0087517724752246, 0.5517594563439645, 0.47000848563548625, 0.3133389904236575, 0.15666949521182874, 0.7697660798880351, 0.38488303994401757, 0.3697755969325764, 0.3697755969325764, 0.8754990179294488, 0.875505149008391, 0.9006963329650878, 0.4495953262353698, 0.4495953262353698, 0.5686785751602432, 0.7787629568415788, 0.5784705378515931, 0.5784705378515931, 0.7808331380390099, 0.8315578176359868, 0.5594216543355482, 0.8755151748795995, 0.9006900218728978, 0.8315628392900232, 0.9147314172723298, 0.5830874249724596, 0.5830874249724596, 0.32915046126329667, 0.32915046126329667, 0.32915046126329667, 0.4499992384663489, 0.4499992384663489, 0.554496641156047, 0.8755081060210309, 0.8755054492024041, 1.0086585687196006, 0.6584909015176434, 0.9536888732380512, 0.9006906983023548, 0.9537007436850542, 0.5434750918105246, 0.9536941598400995, 1.0086604533257324, 0.9536953204728925, 0.5025082847498745, 1.0087419179324715, 0.8315370756234297, 0.5530397747414533, 0.24039378175177506, 0.24039378175177506, 0.24039378175177506, 0.24039378175177506, 0.8755028266426328, 0.41531145569521666, 0.41531145569521666, 0.5670865658479755, 0.9006968167714867, 0.8315527902677581, 0.8105199575669941, 0.5873329091043734, 0.8755005812627555, 0.5485017003776613, 0.9537149094656361, 0.451179867385309, 0.451179867385309, 0.6585120045691668, 0.9007075628063238, 0.8754990665819499, 0.8755023024651771, 0.7658586378283354, 0.7808287012821168, 0.47543741532125305, 0.23771870766062653, 0.23771870766062653, 0.23771870766062653, 0.3325015218134876, 0.3325015218134876, 0.43551537723732714, 0.43551537723732714, 0.43551537723732714, 0.9537186523799716, 0.813578416018814, 0.406789208009407, 0.36686244522142164, 0.36686244522142164, 0.12228748174047388, 0.12228748174047388, 0.42793821956043515, 0.21396910978021758, 0.21396910978021758, 0.10698455489010879, 0.8315641899564369, 0.6585099347398992, 0.8811875183700536, 0.5536771845870743, 0.5478145656614605, 0.2563713606784731, 0.2563713606784731, 0.2563713606784731, 0.5713656646246642, 0.7701574295031187, 0.38507871475155936, 0.4770143018869038, 0.4770143018869038, 0.6072198493400555, 0.3579444485515445, 0.3579444485515445, 0.3579444485515445, 0.9537215223110943, 0.5822187807312054, 0.6282559826587053, 0.31412799132935265, 0.8315534689940536, 1.0087095841083662, 0.6059050807637026, 0.3029525403818513, 0.22661233186385452, 0.45322466372770903, 0.22661233186385452, 0.5736345583563415, 0.9006830317591357, 1.0086855728051958, 0.2672951755242699, 0.5345903510485398, 0.2672951755242699, 0.5743394025887113, 0.6135399485619726, 0.3067699742809863, 0.8315649230075219, 0.9537015960699691, 0.6064413558670305, 0.9537137722202642, 0.8315650637583317, 0.37392996228427516, 0.37392996228427516, 0.18696498114213758, 0.18696498114213758, 0.9007109707339389, 0.5860623194128295, 0.5860623194128295, 0.9537324031250577, 0.6242712102981253, 0.31213560514906263, 0.8303312108263383, 0.9007087784195509, 0.21319820518298674, 0.21319820518298674, 0.21319820518298674, 0.21319820518298674, 0.21319820518298674, 0.4204254736380682, 0.4204254736380682, 0.3580660566402271, 0.3580660566402271, 1.0087464222261817, 0.7808189818255188, 0.8755137762266548, 0.27832994963126545, 0.27832994963126545, 0.27832994963126545, 0.4658675088042672, 0.4658675088042672, 0.9007112915684229, 0.8315838425727503, 0.9536986193129747, 0.8315714490386219, 0.42905265147763605, 0.42905265147763605, 0.7644440161999178, 0.3822220080999589, 1.0087515870382207, 0.7808383005153108, 0.623352223887966, 0.311676111943983, 0.5733998762972715, 0.8315623067602814, 0.9007200940943533, 0.6215639538880882, 0.3107819769440441, 0.5696803654866877, 0.40209885384458705, 0.40209885384458705, 0.20104942692229352, 0.4160693635098595, 0.4160693635098595, 0.5663991117874668, 0.5663991117874668, 0.3421292391296526, 0.1710646195648263, 0.3421292391296526, 0.1710646195648263, 0.44202348230275357, 0.44202348230275357, 0.9007474572306579, 0.36575263622320947, 0.36575263622320947, 0.18287631811160474, 0.5616244781404881, 0.9007445970450129, 0.9006869436742572, 0.780841208077761, 0.617293451941584, 0.6003834443928987, 0.24015337775715948, 0.8754963255354276, 0.9537052691106834, 0.14489930368889212, 0.28979860737778423, 0.28979860737778423, 0.14489930368889212, 0.14489930368889212, 0.9537024243557097, 0.5548871508501042, 0.2304487228080244, 0.4608974456160488, 0.2304487228080244, 0.37622126235744646, 0.25081417490496427, 0.12540708745248214, 0.25081417490496427, 0.21708647751026275, 0.21708647751026275, 0.21708647751026275, 0.21708647751026275], \"Term\": [\"1\", \"12\", \"121624\", \"1801\", \"18850\", \"20\", \"2024\", \"2024\", \"2024\", \"2024\", \"2026\", \"2871\", \"3392\", \"4195\", \"4837\", \"5144\", \"6495\", \"6541\", \"7110\", \"abc\", \"abc\", \"access\", \"according\", \"according\", \"advancement\", \"africa\", \"agentic\", \"ag\\u2026\", \"ai\", \"ai\", \"ai\", \"alarm\", \"alassad\", \"alassad\", \"alliance\", \"also\", \"amazing\", \"amd\", \"anime\", \"answere\\u2026\", \"around\", \"around\", \"article\", \"article\", \"artificial\", \"author\", \"a\\u2026\", \"bashar\", \"bashar\", \"batman\", \"behind\", \"believe\", \"best\", \"best\", \"best\", \"bigger\", \"blending\", \"booth\", \"boston\", \"britain\", \"brought\", \"brought\", \"buy\", \"campaignfox\", \"campbell\", \"capability\", \"certainly\", \"champion\", \"char\", \"char\", \"char\", \"char\", \"char\", \"charge\", \"chatgpt\", \"chatgpt\", \"chess\", \"christmas\", \"cnn\", \"coffee\", \"comment\", \"conference\", \"conference\", \"connected\", \"content\", \"content\", \"continue\", \"country\", \"country\", \"country\", \"country\", \"coup\", \"customer\", \"dale\", \"dark\", \"day\", \"day\", \"day\", \"decad\\u2026\", \"december\", \"december\", \"december\", \"deliver\", \"digital\", \"donald\", \"donald\", \"donald\", \"drag\", \"dramani\", \"e195e2\", \"election\", \"election\", \"email\", \"embraer\", \"engagement\", \"engagement\", \"entering\", \"even\", \"even\", \"even\", \"event\", \"ever\", \"ever\", \"ev\\u2026\", \"experience\", \"experi\\u2026\", \"feel\", \"first\", \"first\", \"first\", \"first\", \"first\", \"flag\", \"flag\", \"flawless\", \"flying\", \"foreign\", \"foreign\", \"fox\", \"framework\", \"free\", \"free\", \"free\", \"french\", \"french\", \"game\", \"game\", \"gaming\", \"gave\", \"gemini\", \"get\", \"get\", \"globalstar\", \"go\", \"growth\", \"growth\", \"harness\", \"harris\", \"headline\", \"headset\", \"highly\", \"hispanic\", \"ho\", \"hold\", \"hold\", \"holding\", \"holding\", \"holding\", \"holiday\", \"holiday\", \"hussain\", \"idris\", \"included\", \"indian\", \"industry\", \"instability\", \"intelligence\", \"intheair\", \"jazz\", \"john\", \"join\", \"keen\", \"king\", \"korea\", \"kornick\", \"laptop\", \"latest\", \"latest\", \"latest\", \"latest\", \"lavo\", \"leader\", \"leader\", \"legendary\", \"like\", \"lindsay\", \"llc\", \"london\", \"lot\", \"luxair\", \"mahama\", \"major\", \"major\", \"many\", \"mark\", \"meghan\", \"meta\", \"might\", \"mockery\", \"monday\", \"monday\", \"monday\", \"monday\", \"month\", \"month\", \"national\", \"national\", \"national\", \"neighbouring\", \"netflix\", \"netflix\", \"new\", \"new\", \"new\", \"new\", \"news\", \"news\", \"news\", \"news\", \"ny\", \"object\", \"offering\", \"official\", \"old\", \"one\", \"one\", \"one\", \"openai\", \"pariah\", \"pariah\", \"park\", \"park\", \"part\", \"people\", \"people\", \"people\", \"pivotal\", \"plan\", \"plus\", \"plus\", \"post\", \"premium\", \"president\", \"president\", \"presidentelect\", \"presidentelect\", \"presidentelect\", \"promoter\", \"proudly\", \"pushing\", \"quarter\", \"quarter\", \"quarter\", \"quest\", \"raised\", \"raised\", \"ran\", \"reform\", \"release\", \"remembered\", \"rep\", \"report\", \"report\", \"report\", \"report\", \"rest\", \"return\", \"return\", \"rising\", \"ruler\", \"ruler\", \"russia\", \"r\\u2026\", \"said\", \"said\", \"said\", \"said\", \"said\", \"search\", \"search\", \"season\", \"season\", \"select\", \"se\\u2026\", \"shadow\", \"share\", \"share\", \"share\", \"show\", \"show\", \"significant\", \"skip\", \"sky\", \"slave\", \"something\", \"something\", \"south\", \"south\", \"special\", \"state\", \"stepped\", \"stepped\", \"subscription\", \"suggests\", \"synagogue\", \"syria\", \"syria\", \"take\", \"time\", \"time\", \"time\", \"today\", \"today\", \"together\", \"together\", \"trump\", \"trump\", \"trump\", \"trump\", \"tuesday\", \"tuesday\", \"turn\", \"u\", \"u\", \"u\", \"ubs\", \"versatil\\u2026\", \"vibrancy\", \"viral\", \"war\", \"world\", \"world\", \"worldwide\", \"xbox\", \"year\", \"year\", \"year\", \"year\", \"year\", \"youve\", \"zakir\", \"\\u2013\", \"\\u2013\", \"\\u2013\", \"\\u2019\", \"\\u2019\", \"\\u2019\", \"\\u2019\", \"\\u2026\", \"\\u2026\", \"\\u2026\", \"\\u2026\"]}, \"R\": 30, \"lambda.step\": 0.01, \"plot.opts\": {\"xlab\": \"PC1\", \"ylab\": \"PC2\"}, \"topic.order\": [5, 4, 1, 2, 3]};\n",
              "\n",
              "function LDAvis_load_lib(url, callback){\n",
              "  var s = document.createElement('script');\n",
              "  s.src = url;\n",
              "  s.async = true;\n",
              "  s.onreadystatechange = s.onload = callback;\n",
              "  s.onerror = function(){console.warn(\"failed to load library \" + url);};\n",
              "  document.getElementsByTagName(\"head\")[0].appendChild(s);\n",
              "}\n",
              "\n",
              "if(typeof(LDAvis) !== \"undefined\"){\n",
              "   // already loaded: just create the visualization\n",
              "   !function(LDAvis){\n",
              "       new LDAvis(\"#\" + \"ldavis_el2051379864494089604240740622\", ldavis_el2051379864494089604240740622_data);\n",
              "   }(LDAvis);\n",
              "}else if(typeof define === \"function\" && define.amd){\n",
              "   // require.js is available: use it to load d3/LDAvis\n",
              "   require.config({paths: {d3: \"https://d3js.org/d3.v5\"}});\n",
              "   require([\"d3\"], function(d3){\n",
              "      window.d3 = d3;\n",
              "      LDAvis_load_lib(\"https://cdn.jsdelivr.net/gh/bmabey/pyLDAvis@3.4.0/pyLDAvis/js/ldavis.v3.0.0.js\", function(){\n",
              "        new LDAvis(\"#\" + \"ldavis_el2051379864494089604240740622\", ldavis_el2051379864494089604240740622_data);\n",
              "      });\n",
              "    });\n",
              "}else{\n",
              "    // require.js not available: dynamically load d3 & LDAvis\n",
              "    LDAvis_load_lib(\"https://d3js.org/d3.v5.js\", function(){\n",
              "         LDAvis_load_lib(\"https://cdn.jsdelivr.net/gh/bmabey/pyLDAvis@3.4.0/pyLDAvis/js/ldavis.v3.0.0.js\", function(){\n",
              "                 new LDAvis(\"#\" + \"ldavis_el2051379864494089604240740622\", ldavis_el2051379864494089604240740622_data);\n",
              "            })\n",
              "         });\n",
              "}\n",
              "</script>"
            ]
          },
          "metadata": {}
        }
      ]
    },
    {
      "cell_type": "markdown",
      "source": [
        "### Using Non - Negative Matrix Factorization (NMF) on Tweets Dataset"
      ],
      "metadata": {
        "id": "A8bNIgSRfaDK"
      }
    },
    {
      "cell_type": "code",
      "source": [
        "# Importing necessary libraries\n",
        "\n",
        "from sklearn.feature_extraction.text import TfidfVectorizer\n",
        "from sklearn.decomposition import NMF\n",
        "import plotly.express as px\n",
        "import plotly.graph_objects as go"
      ],
      "metadata": {
        "colab": {
          "base_uri": "https://localhost:8080/"
        },
        "id": "uZ6Qlxpufr1O",
        "outputId": "f8fd48e4-a55c-41df-c067-16dedbd41a66"
      },
      "execution_count": 45,
      "outputs": [
        {
          "output_type": "stream",
          "name": "stderr",
          "text": [
            "/usr/local/lib/python3.10/dist-packages/ipykernel/ipkernel.py:283: DeprecationWarning:\n",
            "\n",
            "`should_run_async` will not call `transform_cell` automatically in the future. Please pass the result to `transformed_cell` argument and any exception that happen during thetransform in `preprocessing_exc_tuple` in IPython 7.17 and above.\n",
            "\n"
          ]
        }
      ]
    },
    {
      "cell_type": "code",
      "source": [
        "# Loading the tweets dataset\n",
        "\n",
        "tweets_data = pd.read_csv('/content/trending_tweets_with_sentiments.csv')\n",
        "\n",
        "# Preparing data\n",
        "\n",
        "tweets_texts = tweets_data[\"Text\"]\n",
        "\n",
        "# Converting text data into a TF-IDF matrix\n",
        "\n",
        "tfidf_vectorizer = TfidfVectorizer(max_df=0.95, min_df=2, stop_words='english')\n",
        "tfidf = tfidf_vectorizer.fit_transform(tweets_texts)\n",
        "\n",
        "# Initializing the NMF model\n",
        "\n",
        "nmf_model = NMF(n_components=10, random_state=42)\n",
        "nmf_model.fit(tfidf)\n",
        "\n",
        "# Extracting topics and keywords\n",
        "\n",
        "feature_names = tfidf_vectorizer.get_feature_names_out()\n",
        "topics = {}\n",
        "for topic_idx, topic in enumerate(nmf_model.components_):\n",
        "    topics[f\"Topic {topic_idx}\"] = [\n",
        "        (feature_names[i], topic[i]) for i in topic.argsort()[:-11:-1]\n",
        "    ]\n",
        "\n",
        "# Displaying topic information\n",
        "\n",
        "print(\"Topics and Keywords:\")\n",
        "for topic, keywords in topics.items():\n",
        "    print(f\"\\n{topic}:\")\n",
        "    for word, score in keywords:\n",
        "        print(f\"  {word}: {score:.4f}\")\n",
        "\n",
        "# Saving topic information to a text file\n",
        "\n",
        "with open(\"tweets_topics.txt\", \"w\") as file:\n",
        "    for topic, keywords in topics.items():\n",
        "        file.write(f\"{topic}:\\n\")\n",
        "        for word, score in keywords:\n",
        "            file.write(f\"  {word}: {score:.4f}\\n\")\n",
        "        file.write(\"\\n\")\n",
        "\n",
        "print(\"Topics and keywords have been saved to 'tweets_topics.txt'.\")\n",
        "\n",
        "# Preparing the data for Plotly visualization\n",
        "\n",
        "visualization_data = []\n",
        "for topic_idx, keywords in topics.items():\n",
        "    for word, score in keywords:\n",
        "        visualization_data.append({\"Topic\": f\"Topic {topic_idx}\", \"Word\": word, \"Score\": score})\n",
        "\n",
        "df_visualization = pd.DataFrame(visualization_data)\n",
        "\n",
        "# Creating an interactive Plotly visualization\n",
        "\n",
        "fig = px.bar(\n",
        "    df_visualization,\n",
        "    x=\"Score\",\n",
        "    y=\"Word\",\n",
        "    color=\"Topic\",\n",
        "    orientation=\"h\",\n",
        "    title=\"Top Words by Topic\",\n",
        "    height=600,\n",
        "    facet_col=\"Topic\",\n",
        "    facet_col_wrap=3,\n",
        ")\n",
        "\n",
        "fig.update_layout(showlegend=False)\n",
        "fig.write_html(\"tweets_topics_interactive.html\")\n",
        "fig.show()\n",
        "\n",
        "print(\"Interactive visualization has been saved as 'tweets_topics_interactive.html'.\")"
      ],
      "metadata": {
        "colab": {
          "base_uri": "https://localhost:8080/",
          "height": 1000
        },
        "id": "qq-VianYhika",
        "outputId": "f593a4ad-1574-4435-e690-effdfe3500d4"
      },
      "execution_count": 47,
      "outputs": [
        {
          "output_type": "stream",
          "name": "stderr",
          "text": [
            "/usr/local/lib/python3.10/dist-packages/ipykernel/ipkernel.py:283: DeprecationWarning:\n",
            "\n",
            "`should_run_async` will not call `transform_cell` automatically in the future. Please pass the result to `transformed_cell` argument and any exception that happen during thetransform in `preprocessing_exc_tuple` in IPython 7.17 and above.\n",
            "\n"
          ]
        },
        {
          "output_type": "stream",
          "name": "stdout",
          "text": [
            "Topics and Keywords:\n",
            "\n",
            "Topic 0:\n",
            "  tonight: 1.0080\n",
            "  watching: 0.5138\n",
            "  lock: 0.5040\n",
            "  fanduel: 0.5040\n",
            "  sportsbetting: 0.5040\n",
            "  sportsgambling: 0.5040\n",
            "  winning: 0.5040\n",
            "  betting: 0.5040\n",
            "  gamblingtwitter: 0.5040\n",
            "  paid: 0.5040\n",
            "\n",
            "Topic 1:\n",
            "  kcr: 0.8721\n",
            "  ponnala: 0.5814\n",
            "  చర: 0.2907\n",
            "  vijayareddy_r: 0.2907\n",
            "  ahistory: 0.2907\n",
            "  democracy: 0.2907\n",
            "  fourteen: 0.2907\n",
            "  kcrbrspresident: 0.2907\n",
            "  ఒక: 0.2907\n",
            "  ktrbrs: 0.2907\n",
            "\n",
            "Topic 2:\n",
            "  news: 0.7360\n",
            "  breakingnews: 0.6815\n",
            "  currentevents: 0.6480\n",
            "  cafawards2024: 0.6480\n",
            "  worldnews: 0.6384\n",
            "  police: 0.2166\n",
            "  britain: 0.2020\n",
            "  christmas: 0.1370\n",
            "  just: 0.1338\n",
            "  claims: 0.1193\n",
            "\n",
            "Topic 3:\n",
            "  fyp: 0.9987\n",
            "  viral: 0.9311\n",
            "  explorepage: 0.5892\n",
            "  explore: 0.4576\n",
            "  vibes: 0.4413\n",
            "  design: 0.3242\n",
            "  family: 0.3224\n",
            "  memes: 0.3198\n",
            "  drop: 0.3198\n",
            "  trendingnow: 0.2280\n",
            "\n",
            "Topic 4:\n",
            "  nifty: 0.3399\n",
            "  nifty50: 0.3399\n",
            "  stockmarketindia: 0.3399\n",
            "  check: 0.3127\n",
            "  stockstobuy: 0.2779\n",
            "  stockstowatch: 0.2779\n",
            "  stockstotrade: 0.2779\n",
            "  stocksinfocus: 0.2779\n",
            "  stocks: 0.2779\n",
            "  chartpatterns: 0.2779\n",
            "\n",
            "Topic 5:\n",
            "  new: 0.5308\n",
            "  today: 0.3904\n",
            "  santa: 0.3433\n",
            "  bitcoin: 0.3277\n",
            "  technology: 0.3000\n",
            "  gem: 0.2547\n",
            "  right: 0.2358\n",
            "  york: 0.2344\n",
            "  bus: 0.2308\n",
            "  lot: 0.2130\n",
            "\n",
            "Topic 6:\n",
            "  workout: 0.4714\n",
            "  health: 0.3859\n",
            "  fyp: 0.3284\n",
            "  fast: 0.3201\n",
            "  arms: 0.3175\n",
            "  tall: 0.3175\n",
            "  bodyweightexercise: 0.3175\n",
            "  sports: 0.3175\n",
            "  speed: 0.3175\n",
            "  big: 0.3175\n",
            "\n",
            "Topic 7:\n",
            "  highlights: 0.4936\n",
            "  reels: 0.3309\n",
            "  explore: 0.2609\n",
            "  groom: 0.2468\n",
            "  kisnamusicevents: 0.2468\n",
            "  nitinkisna: 0.2468\n",
            "  followforfollowback: 0.2468\n",
            "  wedding: 0.2468\n",
            "  groomentry: 0.2468\n",
            "  reelitfeelit: 0.2468\n",
            "\n",
            "Topic 8:\n",
            "  seo: 0.7122\n",
            "  service: 0.3649\n",
            "  dndteams: 0.3561\n",
            "  best: 0.3561\n",
            "  company: 0.3561\n",
            "  provider: 0.3561\n",
            "  viralvideo: 0.3156\n",
            "  shorts: 0.2978\n",
            "  story: 0.0571\n",
            "  youtube: 0.0563\n",
            "\n",
            "Topic 9:\n",
            "  exhibition: 0.3932\n",
            "  pop: 0.3814\n",
            "  nd: 0.3814\n",
            "  art: 0.3814\n",
            "  nc: 0.3814\n",
            "  cc: 0.3814\n",
            "  digital: 0.3814\n",
            "  creator: 0.3814\n",
            "  inspired: 0.3814\n",
            "  photo: 0.1960\n",
            "Topics and keywords have been saved to 'tweets_topics.txt'.\n"
          ]
        },
        {
          "output_type": "display_data",
          "data": {
            "text/html": [
              "<html>\n",
              "<head><meta charset=\"utf-8\" /></head>\n",
              "<body>\n",
              "    <div>            <script src=\"https://cdnjs.cloudflare.com/ajax/libs/mathjax/2.7.5/MathJax.js?config=TeX-AMS-MML_SVG\"></script><script type=\"text/javascript\">if (window.MathJax && window.MathJax.Hub && window.MathJax.Hub.Config) {window.MathJax.Hub.Config({SVG: {font: \"STIX-Web\"}});}</script>                <script type=\"text/javascript\">window.PlotlyConfig = {MathJaxConfig: 'local'};</script>\n",
              "        <script charset=\"utf-8\" src=\"https://cdn.plot.ly/plotly-2.35.2.min.js\"></script>                <div id=\"52829f28-7b9b-47c9-a417-531084cacc90\" class=\"plotly-graph-div\" style=\"height:600px; width:100%;\"></div>            <script type=\"text/javascript\">                                    window.PLOTLYENV=window.PLOTLYENV || {};                                    if (document.getElementById(\"52829f28-7b9b-47c9-a417-531084cacc90\")) {                    Plotly.newPlot(                        \"52829f28-7b9b-47c9-a417-531084cacc90\",                        [{\"alignmentgroup\":\"True\",\"hovertemplate\":\"Topic=Topic Topic 0\\u003cbr\\u003eScore=%{x}\\u003cbr\\u003eWord=%{y}\\u003cextra\\u003e\\u003c\\u002fextra\\u003e\",\"legendgroup\":\"Topic Topic 0\",\"marker\":{\"color\":\"#636efa\",\"pattern\":{\"shape\":\"\"}},\"name\":\"Topic Topic 0\",\"offsetgroup\":\"Topic Topic 0\",\"orientation\":\"h\",\"showlegend\":true,\"textposition\":\"auto\",\"x\":[1.0080142380039978,0.5137676743057589,0.5040071190019989,0.5040071190019989,0.5040071190019989,0.5040071190019989,0.5040071190019989,0.5040071190019989,0.5040071190019989,0.5040071190019989],\"xaxis\":\"x10\",\"y\":[\"tonight\",\"watching\",\"lock\",\"fanduel\",\"sportsbetting\",\"sportsgambling\",\"winning\",\"betting\",\"gamblingtwitter\",\"paid\"],\"yaxis\":\"y10\",\"type\":\"bar\"},{\"alignmentgroup\":\"True\",\"hovertemplate\":\"Topic=Topic Topic 1\\u003cbr\\u003eScore=%{x}\\u003cbr\\u003eWord=%{y}\\u003cextra\\u003e\\u003c\\u002fextra\\u003e\",\"legendgroup\":\"Topic Topic 1\",\"marker\":{\"color\":\"#EF553B\",\"pattern\":{\"shape\":\"\"}},\"name\":\"Topic Topic 1\",\"offsetgroup\":\"Topic Topic 1\",\"orientation\":\"h\",\"showlegend\":true,\"textposition\":\"auto\",\"x\":[0.8721282745252469,0.5814188496834979,0.29070942484174894,0.29070942484174894,0.29070942484174894,0.29070942484174894,0.29070942484174894,0.29070942484174894,0.29070942484174894,0.29070942484174894],\"xaxis\":\"x11\",\"y\":[\"kcr\",\"ponnala\",\"చర\",\"vijayareddy_r\",\"ahistory\",\"democracy\",\"fourteen\",\"kcrbrspresident\",\"ఒక\",\"ktrbrs\"],\"yaxis\":\"y11\",\"type\":\"bar\"},{\"alignmentgroup\":\"True\",\"hovertemplate\":\"Topic=Topic Topic 2\\u003cbr\\u003eScore=%{x}\\u003cbr\\u003eWord=%{y}\\u003cextra\\u003e\\u003c\\u002fextra\\u003e\",\"legendgroup\":\"Topic Topic 2\",\"marker\":{\"color\":\"#00cc96\",\"pattern\":{\"shape\":\"\"}},\"name\":\"Topic Topic 2\",\"offsetgroup\":\"Topic Topic 2\",\"orientation\":\"h\",\"showlegend\":true,\"textposition\":\"auto\",\"x\":[0.7360234964567669,0.6815256952059637,0.6479639209070237,0.6479639209070237,0.6383950315949146,0.2165822246290468,0.20195232073218808,0.13695546241178583,0.13384579674755626,0.11934708653665685],\"xaxis\":\"x12\",\"y\":[\"news\",\"breakingnews\",\"currentevents\",\"cafawards2024\",\"worldnews\",\"police\",\"britain\",\"christmas\",\"just\",\"claims\"],\"yaxis\":\"y12\",\"type\":\"bar\"},{\"alignmentgroup\":\"True\",\"hovertemplate\":\"Topic=Topic Topic 3\\u003cbr\\u003eScore=%{x}\\u003cbr\\u003eWord=%{y}\\u003cextra\\u003e\\u003c\\u002fextra\\u003e\",\"legendgroup\":\"Topic Topic 3\",\"marker\":{\"color\":\"#ab63fa\",\"pattern\":{\"shape\":\"\"}},\"name\":\"Topic Topic 3\",\"offsetgroup\":\"Topic Topic 3\",\"orientation\":\"h\",\"showlegend\":true,\"textposition\":\"auto\",\"x\":[0.9987461451931935,0.9311255090806339,0.5891704116696925,0.4576326814878487,0.44131460514143167,0.32419208286718976,0.32235217405743943,0.3198244797565703,0.3198244797565703,0.22802587167737795],\"xaxis\":\"x7\",\"y\":[\"fyp\",\"viral\",\"explorepage\",\"explore\",\"vibes\",\"design\",\"family\",\"memes\",\"drop\",\"trendingnow\"],\"yaxis\":\"y7\",\"type\":\"bar\"},{\"alignmentgroup\":\"True\",\"hovertemplate\":\"Topic=Topic Topic 4\\u003cbr\\u003eScore=%{x}\\u003cbr\\u003eWord=%{y}\\u003cextra\\u003e\\u003c\\u002fextra\\u003e\",\"legendgroup\":\"Topic Topic 4\",\"marker\":{\"color\":\"#FFA15A\",\"pattern\":{\"shape\":\"\"}},\"name\":\"Topic Topic 4\",\"offsetgroup\":\"Topic Topic 4\",\"orientation\":\"h\",\"showlegend\":true,\"textposition\":\"auto\",\"x\":[0.3399008425468947,0.3399008425468947,0.3399008425468947,0.31270982974111056,0.2779180684431129,0.2779180684431129,0.2779180684431129,0.2779180684431129,0.2779180684431129,0.2779180684431129],\"xaxis\":\"x8\",\"y\":[\"nifty\",\"nifty50\",\"stockmarketindia\",\"check\",\"stockstobuy\",\"stockstowatch\",\"stockstotrade\",\"stocksinfocus\",\"stocks\",\"chartpatterns\"],\"yaxis\":\"y8\",\"type\":\"bar\"},{\"alignmentgroup\":\"True\",\"hovertemplate\":\"Topic=Topic Topic 5\\u003cbr\\u003eScore=%{x}\\u003cbr\\u003eWord=%{y}\\u003cextra\\u003e\\u003c\\u002fextra\\u003e\",\"legendgroup\":\"Topic Topic 5\",\"marker\":{\"color\":\"#19d3f3\",\"pattern\":{\"shape\":\"\"}},\"name\":\"Topic Topic 5\",\"offsetgroup\":\"Topic Topic 5\",\"orientation\":\"h\",\"showlegend\":true,\"textposition\":\"auto\",\"x\":[0.5308265286702264,0.39041253852702107,0.34328653393250563,0.3277159359582963,0.3000268702025614,0.2547172306367388,0.23583957955886448,0.23440350272241461,0.2308022496473089,0.21295846215311082],\"xaxis\":\"x9\",\"y\":[\"new\",\"today\",\"santa\",\"bitcoin\",\"technology\",\"gem\",\"right\",\"york\",\"bus\",\"lot\"],\"yaxis\":\"y9\",\"type\":\"bar\"},{\"alignmentgroup\":\"True\",\"hovertemplate\":\"Topic=Topic Topic 6\\u003cbr\\u003eScore=%{x}\\u003cbr\\u003eWord=%{y}\\u003cextra\\u003e\\u003c\\u002fextra\\u003e\",\"legendgroup\":\"Topic Topic 6\",\"marker\":{\"color\":\"#FF6692\",\"pattern\":{\"shape\":\"\"}},\"name\":\"Topic Topic 6\",\"offsetgroup\":\"Topic Topic 6\",\"orientation\":\"h\",\"showlegend\":true,\"textposition\":\"auto\",\"x\":[0.4713693296858264,0.38589799312139195,0.32839389879772846,0.3201162247777479,0.31747563115171934,0.31747563115171934,0.31747563115171934,0.31747563115171934,0.31747563115171934,0.31747563115171934],\"xaxis\":\"x4\",\"y\":[\"workout\",\"health\",\"fyp\",\"fast\",\"arms\",\"tall\",\"bodyweightexercise\",\"sports\",\"speed\",\"big\"],\"yaxis\":\"y4\",\"type\":\"bar\"},{\"alignmentgroup\":\"True\",\"hovertemplate\":\"Topic=Topic Topic 7\\u003cbr\\u003eScore=%{x}\\u003cbr\\u003eWord=%{y}\\u003cextra\\u003e\\u003c\\u002fextra\\u003e\",\"legendgroup\":\"Topic Topic 7\",\"marker\":{\"color\":\"#B6E880\",\"pattern\":{\"shape\":\"\"}},\"name\":\"Topic Topic 7\",\"offsetgroup\":\"Topic Topic 7\",\"orientation\":\"h\",\"showlegend\":true,\"textposition\":\"auto\",\"x\":[0.49360196197758777,0.3309188829404109,0.2609315540176923,0.24680098098879388,0.24680098098879388,0.24680098098879388,0.24680098098879388,0.24680098098879388,0.24680098098879388,0.24680098098879388],\"xaxis\":\"x5\",\"y\":[\"highlights\",\"reels\",\"explore\",\"groom\",\"kisnamusicevents\",\"nitinkisna\",\"followforfollowback\",\"wedding\",\"groomentry\",\"reelitfeelit\"],\"yaxis\":\"y5\",\"type\":\"bar\"},{\"alignmentgroup\":\"True\",\"hovertemplate\":\"Topic=Topic Topic 8\\u003cbr\\u003eScore=%{x}\\u003cbr\\u003eWord=%{y}\\u003cextra\\u003e\\u003c\\u002fextra\\u003e\",\"legendgroup\":\"Topic Topic 8\",\"marker\":{\"color\":\"#FF97FF\",\"pattern\":{\"shape\":\"\"}},\"name\":\"Topic Topic 8\",\"offsetgroup\":\"Topic Topic 8\",\"orientation\":\"h\",\"showlegend\":true,\"textposition\":\"auto\",\"x\":[0.7122285693944842,0.36490116803833145,0.3561142846972421,0.3561142846972421,0.3561142846972421,0.3561142846972421,0.3156223411172739,0.29777885443404606,0.0570525925513836,0.056344878396815276],\"xaxis\":\"x6\",\"y\":[\"seo\",\"service\",\"dndteams\",\"best\",\"company\",\"provider\",\"viralvideo\",\"shorts\",\"story\",\"youtube\"],\"yaxis\":\"y6\",\"type\":\"bar\"},{\"alignmentgroup\":\"True\",\"hovertemplate\":\"Topic=Topic Topic 9\\u003cbr\\u003eScore=%{x}\\u003cbr\\u003eWord=%{y}\\u003cextra\\u003e\\u003c\\u002fextra\\u003e\",\"legendgroup\":\"Topic Topic 9\",\"marker\":{\"color\":\"#FECB52\",\"pattern\":{\"shape\":\"\"}},\"name\":\"Topic Topic 9\",\"offsetgroup\":\"Topic Topic 9\",\"orientation\":\"h\",\"showlegend\":true,\"textposition\":\"auto\",\"x\":[0.3932368741803532,0.3814180253366521,0.3814180253366521,0.3814180253366521,0.3814180253366521,0.3814180253366521,0.3814180253366521,0.3814180253366521,0.3814180253366521,0.19600861001769848],\"xaxis\":\"x\",\"y\":[\"exhibition\",\"pop\",\"nd\",\"art\",\"nc\",\"cc\",\"digital\",\"creator\",\"inspired\",\"photo\"],\"yaxis\":\"y\",\"type\":\"bar\"}],                        {\"template\":{\"data\":{\"histogram2dcontour\":[{\"type\":\"histogram2dcontour\",\"colorbar\":{\"outlinewidth\":0,\"ticks\":\"\"},\"colorscale\":[[0.0,\"#0d0887\"],[0.1111111111111111,\"#46039f\"],[0.2222222222222222,\"#7201a8\"],[0.3333333333333333,\"#9c179e\"],[0.4444444444444444,\"#bd3786\"],[0.5555555555555556,\"#d8576b\"],[0.6666666666666666,\"#ed7953\"],[0.7777777777777778,\"#fb9f3a\"],[0.8888888888888888,\"#fdca26\"],[1.0,\"#f0f921\"]]}],\"choropleth\":[{\"type\":\"choropleth\",\"colorbar\":{\"outlinewidth\":0,\"ticks\":\"\"}}],\"histogram2d\":[{\"type\":\"histogram2d\",\"colorbar\":{\"outlinewidth\":0,\"ticks\":\"\"},\"colorscale\":[[0.0,\"#0d0887\"],[0.1111111111111111,\"#46039f\"],[0.2222222222222222,\"#7201a8\"],[0.3333333333333333,\"#9c179e\"],[0.4444444444444444,\"#bd3786\"],[0.5555555555555556,\"#d8576b\"],[0.6666666666666666,\"#ed7953\"],[0.7777777777777778,\"#fb9f3a\"],[0.8888888888888888,\"#fdca26\"],[1.0,\"#f0f921\"]]}],\"heatmap\":[{\"type\":\"heatmap\",\"colorbar\":{\"outlinewidth\":0,\"ticks\":\"\"},\"colorscale\":[[0.0,\"#0d0887\"],[0.1111111111111111,\"#46039f\"],[0.2222222222222222,\"#7201a8\"],[0.3333333333333333,\"#9c179e\"],[0.4444444444444444,\"#bd3786\"],[0.5555555555555556,\"#d8576b\"],[0.6666666666666666,\"#ed7953\"],[0.7777777777777778,\"#fb9f3a\"],[0.8888888888888888,\"#fdca26\"],[1.0,\"#f0f921\"]]}],\"heatmapgl\":[{\"type\":\"heatmapgl\",\"colorbar\":{\"outlinewidth\":0,\"ticks\":\"\"},\"colorscale\":[[0.0,\"#0d0887\"],[0.1111111111111111,\"#46039f\"],[0.2222222222222222,\"#7201a8\"],[0.3333333333333333,\"#9c179e\"],[0.4444444444444444,\"#bd3786\"],[0.5555555555555556,\"#d8576b\"],[0.6666666666666666,\"#ed7953\"],[0.7777777777777778,\"#fb9f3a\"],[0.8888888888888888,\"#fdca26\"],[1.0,\"#f0f921\"]]}],\"contourcarpet\":[{\"type\":\"contourcarpet\",\"colorbar\":{\"outlinewidth\":0,\"ticks\":\"\"}}],\"contour\":[{\"type\":\"contour\",\"colorbar\":{\"outlinewidth\":0,\"ticks\":\"\"},\"colorscale\":[[0.0,\"#0d0887\"],[0.1111111111111111,\"#46039f\"],[0.2222222222222222,\"#7201a8\"],[0.3333333333333333,\"#9c179e\"],[0.4444444444444444,\"#bd3786\"],[0.5555555555555556,\"#d8576b\"],[0.6666666666666666,\"#ed7953\"],[0.7777777777777778,\"#fb9f3a\"],[0.8888888888888888,\"#fdca26\"],[1.0,\"#f0f921\"]]}],\"surface\":[{\"type\":\"surface\",\"colorbar\":{\"outlinewidth\":0,\"ticks\":\"\"},\"colorscale\":[[0.0,\"#0d0887\"],[0.1111111111111111,\"#46039f\"],[0.2222222222222222,\"#7201a8\"],[0.3333333333333333,\"#9c179e\"],[0.4444444444444444,\"#bd3786\"],[0.5555555555555556,\"#d8576b\"],[0.6666666666666666,\"#ed7953\"],[0.7777777777777778,\"#fb9f3a\"],[0.8888888888888888,\"#fdca26\"],[1.0,\"#f0f921\"]]}],\"mesh3d\":[{\"type\":\"mesh3d\",\"colorbar\":{\"outlinewidth\":0,\"ticks\":\"\"}}],\"scatter\":[{\"fillpattern\":{\"fillmode\":\"overlay\",\"size\":10,\"solidity\":0.2},\"type\":\"scatter\"}],\"parcoords\":[{\"type\":\"parcoords\",\"line\":{\"colorbar\":{\"outlinewidth\":0,\"ticks\":\"\"}}}],\"scatterpolargl\":[{\"type\":\"scatterpolargl\",\"marker\":{\"colorbar\":{\"outlinewidth\":0,\"ticks\":\"\"}}}],\"bar\":[{\"error_x\":{\"color\":\"#2a3f5f\"},\"error_y\":{\"color\":\"#2a3f5f\"},\"marker\":{\"line\":{\"color\":\"#E5ECF6\",\"width\":0.5},\"pattern\":{\"fillmode\":\"overlay\",\"size\":10,\"solidity\":0.2}},\"type\":\"bar\"}],\"scattergeo\":[{\"type\":\"scattergeo\",\"marker\":{\"colorbar\":{\"outlinewidth\":0,\"ticks\":\"\"}}}],\"scatterpolar\":[{\"type\":\"scatterpolar\",\"marker\":{\"colorbar\":{\"outlinewidth\":0,\"ticks\":\"\"}}}],\"histogram\":[{\"marker\":{\"pattern\":{\"fillmode\":\"overlay\",\"size\":10,\"solidity\":0.2}},\"type\":\"histogram\"}],\"scattergl\":[{\"type\":\"scattergl\",\"marker\":{\"colorbar\":{\"outlinewidth\":0,\"ticks\":\"\"}}}],\"scatter3d\":[{\"type\":\"scatter3d\",\"line\":{\"colorbar\":{\"outlinewidth\":0,\"ticks\":\"\"}},\"marker\":{\"colorbar\":{\"outlinewidth\":0,\"ticks\":\"\"}}}],\"scattermapbox\":[{\"type\":\"scattermapbox\",\"marker\":{\"colorbar\":{\"outlinewidth\":0,\"ticks\":\"\"}}}],\"scatterternary\":[{\"type\":\"scatterternary\",\"marker\":{\"colorbar\":{\"outlinewidth\":0,\"ticks\":\"\"}}}],\"scattercarpet\":[{\"type\":\"scattercarpet\",\"marker\":{\"colorbar\":{\"outlinewidth\":0,\"ticks\":\"\"}}}],\"carpet\":[{\"aaxis\":{\"endlinecolor\":\"#2a3f5f\",\"gridcolor\":\"white\",\"linecolor\":\"white\",\"minorgridcolor\":\"white\",\"startlinecolor\":\"#2a3f5f\"},\"baxis\":{\"endlinecolor\":\"#2a3f5f\",\"gridcolor\":\"white\",\"linecolor\":\"white\",\"minorgridcolor\":\"white\",\"startlinecolor\":\"#2a3f5f\"},\"type\":\"carpet\"}],\"table\":[{\"cells\":{\"fill\":{\"color\":\"#EBF0F8\"},\"line\":{\"color\":\"white\"}},\"header\":{\"fill\":{\"color\":\"#C8D4E3\"},\"line\":{\"color\":\"white\"}},\"type\":\"table\"}],\"barpolar\":[{\"marker\":{\"line\":{\"color\":\"#E5ECF6\",\"width\":0.5},\"pattern\":{\"fillmode\":\"overlay\",\"size\":10,\"solidity\":0.2}},\"type\":\"barpolar\"}],\"pie\":[{\"automargin\":true,\"type\":\"pie\"}]},\"layout\":{\"autotypenumbers\":\"strict\",\"colorway\":[\"#636efa\",\"#EF553B\",\"#00cc96\",\"#ab63fa\",\"#FFA15A\",\"#19d3f3\",\"#FF6692\",\"#B6E880\",\"#FF97FF\",\"#FECB52\"],\"font\":{\"color\":\"#2a3f5f\"},\"hovermode\":\"closest\",\"hoverlabel\":{\"align\":\"left\"},\"paper_bgcolor\":\"white\",\"plot_bgcolor\":\"#E5ECF6\",\"polar\":{\"bgcolor\":\"#E5ECF6\",\"angularaxis\":{\"gridcolor\":\"white\",\"linecolor\":\"white\",\"ticks\":\"\"},\"radialaxis\":{\"gridcolor\":\"white\",\"linecolor\":\"white\",\"ticks\":\"\"}},\"ternary\":{\"bgcolor\":\"#E5ECF6\",\"aaxis\":{\"gridcolor\":\"white\",\"linecolor\":\"white\",\"ticks\":\"\"},\"baxis\":{\"gridcolor\":\"white\",\"linecolor\":\"white\",\"ticks\":\"\"},\"caxis\":{\"gridcolor\":\"white\",\"linecolor\":\"white\",\"ticks\":\"\"}},\"coloraxis\":{\"colorbar\":{\"outlinewidth\":0,\"ticks\":\"\"}},\"colorscale\":{\"sequential\":[[0.0,\"#0d0887\"],[0.1111111111111111,\"#46039f\"],[0.2222222222222222,\"#7201a8\"],[0.3333333333333333,\"#9c179e\"],[0.4444444444444444,\"#bd3786\"],[0.5555555555555556,\"#d8576b\"],[0.6666666666666666,\"#ed7953\"],[0.7777777777777778,\"#fb9f3a\"],[0.8888888888888888,\"#fdca26\"],[1.0,\"#f0f921\"]],\"sequentialminus\":[[0.0,\"#0d0887\"],[0.1111111111111111,\"#46039f\"],[0.2222222222222222,\"#7201a8\"],[0.3333333333333333,\"#9c179e\"],[0.4444444444444444,\"#bd3786\"],[0.5555555555555556,\"#d8576b\"],[0.6666666666666666,\"#ed7953\"],[0.7777777777777778,\"#fb9f3a\"],[0.8888888888888888,\"#fdca26\"],[1.0,\"#f0f921\"]],\"diverging\":[[0,\"#8e0152\"],[0.1,\"#c51b7d\"],[0.2,\"#de77ae\"],[0.3,\"#f1b6da\"],[0.4,\"#fde0ef\"],[0.5,\"#f7f7f7\"],[0.6,\"#e6f5d0\"],[0.7,\"#b8e186\"],[0.8,\"#7fbc41\"],[0.9,\"#4d9221\"],[1,\"#276419\"]]},\"xaxis\":{\"gridcolor\":\"white\",\"linecolor\":\"white\",\"ticks\":\"\",\"title\":{\"standoff\":15},\"zerolinecolor\":\"white\",\"automargin\":true,\"zerolinewidth\":2},\"yaxis\":{\"gridcolor\":\"white\",\"linecolor\":\"white\",\"ticks\":\"\",\"title\":{\"standoff\":15},\"zerolinecolor\":\"white\",\"automargin\":true,\"zerolinewidth\":2},\"scene\":{\"xaxis\":{\"backgroundcolor\":\"#E5ECF6\",\"gridcolor\":\"white\",\"linecolor\":\"white\",\"showbackground\":true,\"ticks\":\"\",\"zerolinecolor\":\"white\",\"gridwidth\":2},\"yaxis\":{\"backgroundcolor\":\"#E5ECF6\",\"gridcolor\":\"white\",\"linecolor\":\"white\",\"showbackground\":true,\"ticks\":\"\",\"zerolinecolor\":\"white\",\"gridwidth\":2},\"zaxis\":{\"backgroundcolor\":\"#E5ECF6\",\"gridcolor\":\"white\",\"linecolor\":\"white\",\"showbackground\":true,\"ticks\":\"\",\"zerolinecolor\":\"white\",\"gridwidth\":2}},\"shapedefaults\":{\"line\":{\"color\":\"#2a3f5f\"}},\"annotationdefaults\":{\"arrowcolor\":\"#2a3f5f\",\"arrowhead\":0,\"arrowwidth\":1},\"geo\":{\"bgcolor\":\"white\",\"landcolor\":\"#E5ECF6\",\"subunitcolor\":\"white\",\"showland\":true,\"showlakes\":true,\"lakecolor\":\"white\"},\"title\":{\"x\":0.05},\"mapbox\":{\"style\":\"light\"}}},\"xaxis\":{\"anchor\":\"y\",\"domain\":[0.0,0.31999999999999995],\"title\":{\"text\":\"Score\"}},\"yaxis\":{\"anchor\":\"x\",\"domain\":[0.0,0.1975],\"title\":{\"text\":\"Word\"}},\"xaxis2\":{\"anchor\":\"y2\",\"domain\":[0.33999999999999997,0.6599999999999999],\"matches\":\"x\",\"title\":{\"text\":\"Score\"}},\"yaxis2\":{\"anchor\":\"x2\",\"domain\":[0.0,0.1975],\"matches\":\"y\",\"showticklabels\":false},\"xaxis3\":{\"anchor\":\"y3\",\"domain\":[0.6799999999999999,0.9999999999999999],\"matches\":\"x\",\"title\":{\"text\":\"Score\"}},\"yaxis3\":{\"anchor\":\"x3\",\"domain\":[0.0,0.1975],\"matches\":\"y\",\"showticklabels\":false},\"xaxis4\":{\"anchor\":\"y4\",\"domain\":[0.0,0.31999999999999995],\"matches\":\"x\",\"showticklabels\":false},\"yaxis4\":{\"anchor\":\"x4\",\"domain\":[0.2675,0.465],\"matches\":\"y\",\"title\":{\"text\":\"Word\"}},\"xaxis5\":{\"anchor\":\"y5\",\"domain\":[0.33999999999999997,0.6599999999999999],\"matches\":\"x\",\"showticklabels\":false},\"yaxis5\":{\"anchor\":\"x5\",\"domain\":[0.2675,0.465],\"matches\":\"y\",\"showticklabels\":false},\"xaxis6\":{\"anchor\":\"y6\",\"domain\":[0.6799999999999999,0.9999999999999999],\"matches\":\"x\",\"showticklabels\":false},\"yaxis6\":{\"anchor\":\"x6\",\"domain\":[0.2675,0.465],\"matches\":\"y\",\"showticklabels\":false},\"xaxis7\":{\"anchor\":\"y7\",\"domain\":[0.0,0.31999999999999995],\"matches\":\"x\",\"showticklabels\":false},\"yaxis7\":{\"anchor\":\"x7\",\"domain\":[0.535,0.7325],\"matches\":\"y\",\"title\":{\"text\":\"Word\"}},\"xaxis8\":{\"anchor\":\"y8\",\"domain\":[0.33999999999999997,0.6599999999999999],\"matches\":\"x\",\"showticklabels\":false},\"yaxis8\":{\"anchor\":\"x8\",\"domain\":[0.535,0.7325],\"matches\":\"y\",\"showticklabels\":false},\"xaxis9\":{\"anchor\":\"y9\",\"domain\":[0.6799999999999999,0.9999999999999999],\"matches\":\"x\",\"showticklabels\":false},\"yaxis9\":{\"anchor\":\"x9\",\"domain\":[0.535,0.7325],\"matches\":\"y\",\"showticklabels\":false},\"xaxis10\":{\"anchor\":\"y10\",\"domain\":[0.0,0.31999999999999995],\"matches\":\"x\",\"showticklabels\":false},\"yaxis10\":{\"anchor\":\"x10\",\"domain\":[0.8025,1.0],\"matches\":\"y\",\"title\":{\"text\":\"Word\"}},\"xaxis11\":{\"anchor\":\"y11\",\"domain\":[0.33999999999999997,0.6599999999999999],\"matches\":\"x\",\"showticklabels\":false},\"yaxis11\":{\"anchor\":\"x11\",\"domain\":[0.8025,1.0],\"matches\":\"y\",\"showticklabels\":false},\"xaxis12\":{\"anchor\":\"y12\",\"domain\":[0.6799999999999999,0.9999999999999999],\"matches\":\"x\",\"showticklabels\":false},\"yaxis12\":{\"anchor\":\"x12\",\"domain\":[0.8025,1.0],\"matches\":\"y\",\"showticklabels\":false},\"annotations\":[{\"font\":{},\"showarrow\":false,\"text\":\"Topic=Topic Topic 9\",\"x\":0.15999999999999998,\"xanchor\":\"center\",\"xref\":\"paper\",\"y\":0.1975,\"yanchor\":\"bottom\",\"yref\":\"paper\"},{\"font\":{},\"showarrow\":false,\"text\":\"Topic=Topic Topic 6\",\"x\":0.15999999999999998,\"xanchor\":\"center\",\"xref\":\"paper\",\"y\":0.465,\"yanchor\":\"bottom\",\"yref\":\"paper\"},{\"font\":{},\"showarrow\":false,\"text\":\"Topic=Topic Topic 7\",\"x\":0.49999999999999994,\"xanchor\":\"center\",\"xref\":\"paper\",\"y\":0.465,\"yanchor\":\"bottom\",\"yref\":\"paper\"},{\"font\":{},\"showarrow\":false,\"text\":\"Topic=Topic Topic 8\",\"x\":0.8399999999999999,\"xanchor\":\"center\",\"xref\":\"paper\",\"y\":0.465,\"yanchor\":\"bottom\",\"yref\":\"paper\"},{\"font\":{},\"showarrow\":false,\"text\":\"Topic=Topic Topic 3\",\"x\":0.15999999999999998,\"xanchor\":\"center\",\"xref\":\"paper\",\"y\":0.7325,\"yanchor\":\"bottom\",\"yref\":\"paper\"},{\"font\":{},\"showarrow\":false,\"text\":\"Topic=Topic Topic 4\",\"x\":0.49999999999999994,\"xanchor\":\"center\",\"xref\":\"paper\",\"y\":0.7325,\"yanchor\":\"bottom\",\"yref\":\"paper\"},{\"font\":{},\"showarrow\":false,\"text\":\"Topic=Topic Topic 5\",\"x\":0.8399999999999999,\"xanchor\":\"center\",\"xref\":\"paper\",\"y\":0.7325,\"yanchor\":\"bottom\",\"yref\":\"paper\"},{\"font\":{},\"showarrow\":false,\"text\":\"Topic=Topic Topic 0\",\"x\":0.15999999999999998,\"xanchor\":\"center\",\"xref\":\"paper\",\"y\":1.0,\"yanchor\":\"bottom\",\"yref\":\"paper\"},{\"font\":{},\"showarrow\":false,\"text\":\"Topic=Topic Topic 1\",\"x\":0.49999999999999994,\"xanchor\":\"center\",\"xref\":\"paper\",\"y\":1.0,\"yanchor\":\"bottom\",\"yref\":\"paper\"},{\"font\":{},\"showarrow\":false,\"text\":\"Topic=Topic Topic 2\",\"x\":0.8399999999999999,\"xanchor\":\"center\",\"xref\":\"paper\",\"y\":1.0,\"yanchor\":\"bottom\",\"yref\":\"paper\"}],\"legend\":{\"title\":{\"text\":\"Topic\"},\"tracegroupgap\":0},\"title\":{\"text\":\"Top Words by Topic\"},\"barmode\":\"relative\",\"height\":600,\"showlegend\":false},                        {\"responsive\": true}                    ).then(function(){\n",
              "                            \n",
              "var gd = document.getElementById('52829f28-7b9b-47c9-a417-531084cacc90');\n",
              "var x = new MutationObserver(function (mutations, observer) {{\n",
              "        var display = window.getComputedStyle(gd).display;\n",
              "        if (!display || display === 'none') {{\n",
              "            console.log([gd, 'removed!']);\n",
              "            Plotly.purge(gd);\n",
              "            observer.disconnect();\n",
              "        }}\n",
              "}});\n",
              "\n",
              "// Listen for the removal of the full notebook cells\n",
              "var notebookContainer = gd.closest('#notebook-container');\n",
              "if (notebookContainer) {{\n",
              "    x.observe(notebookContainer, {childList: true});\n",
              "}}\n",
              "\n",
              "// Listen for the clearing of the current output cell\n",
              "var outputEl = gd.closest('.output');\n",
              "if (outputEl) {{\n",
              "    x.observe(outputEl, {childList: true});\n",
              "}}\n",
              "\n",
              "                        })                };                            </script>        </div>\n",
              "</body>\n",
              "</html>"
            ]
          },
          "metadata": {}
        },
        {
          "output_type": "stream",
          "name": "stdout",
          "text": [
            "Interactive visualization has been saved as 'tweets_topics_interactive.html'.\n"
          ]
        }
      ]
    },
    {
      "cell_type": "markdown",
      "source": [
        "### Combining All Three Datasets For Next Steps"
      ],
      "metadata": {
        "id": "fn6skX3VnRK5"
      }
    },
    {
      "cell_type": "code",
      "source": [
        "# Loading the datasets\n",
        "news_data = pd.read_csv('/content/news_articles_with_sentiments.csv')\n",
        "reddit_data = pd.read_csv('/content/reddit_posts_with_sentiments.csv')\n",
        "tweets_data = pd.read_csv('/content/trending_tweets_with_sentiments.csv')\n",
        "\n",
        "# Standardizing column names for combination\n",
        "\n",
        "news_data['TimeStamp'] = news_data['Published At']\n",
        "news_data['Text'] = news_data['Content']\n",
        "news_data['Tokens'] = news_data['Processed Text']\n",
        "news_data['Bigrams'] = news_data['Bigrams']\n",
        "news_data['Sentiment'] = news_data['Sentiment']\n",
        "\n",
        "reddit_data['TimeStamp'] = reddit_data['Created_At']\n",
        "reddit_data['Text'] = reddit_data['Title']\n",
        "reddit_data['Tokens'] = reddit_data['Processed Title']\n",
        "reddit_data['Bigrams'] = reddit_data['Bigrams']\n",
        "reddit_data['Sentiment'] = reddit_data['Sentiment']\n",
        "\n",
        "tweets_data['TimeStamp'] = tweets_data['Created At']\n",
        "tweets_data['Text'] = tweets_data['Text']\n",
        "tweets_data['Tokens'] = tweets_data['Processed Text']\n",
        "tweets_data['Bigrams'] = tweets_data['Bigrams']\n",
        "tweets_data['Sentiment'] = tweets_data['Sentiment']\n",
        "\n",
        "# Selecting only the standardized columns\n",
        "\n",
        "columns_to_combine = ['TimeStamp', 'Text', 'Tokens', 'Bigrams', 'Sentiment']\n",
        "news_combined = news_data[columns_to_combine]\n",
        "reddit_combined = reddit_data[columns_to_combine]\n",
        "tweets_combined = tweets_data[columns_to_combine]\n",
        "\n",
        "# Combining all datasets into one\n",
        "\n",
        "combined_dataset = pd.concat([news_combined, reddit_combined, tweets_combined], ignore_index=True)\n",
        "\n",
        "# Saving the combined dataset to a CSV file\n",
        "\n",
        "combined_dataset.to_csv('combined_dataset.csv', index=False)\n",
        "\n",
        "print(\"Combined dataset has been saved as 'combined_dataset.csv'.\")\n",
        "print(combined_dataset.head())"
      ],
      "metadata": {
        "colab": {
          "base_uri": "https://localhost:8080/"
        },
        "id": "evOhem7rnY1y",
        "outputId": "77364c26-f81a-45aa-d14a-98369e4dd13e"
      },
      "execution_count": 49,
      "outputs": [
        {
          "output_type": "stream",
          "name": "stdout",
          "text": [
            "Combined dataset has been saved as 'combined_dataset.csv'.\n",
            "              TimeStamp                                               Text  \\\n",
            "0  2024-12-17T10:51:39Z  Fabio Quartararo has said he was impressed by ...   \n",
            "1  2024-12-17T10:50:41Z  Author of the article:\\r\\nArticle content\\r\\nB...   \n",
            "2  2024-12-17T10:48:17Z  Rashid Vally, the visionary behind South Afric...   \n",
            "3  2024-12-17T10:47:08Z  <ol><li>Richard Smith, chair</li></ol><ol><li>...   \n",
            "4  2024-12-17T10:45:07Z  Caracol’s acclaimed series El Secretario\\r\\nNE...   \n",
            "\n",
            "                                              Tokens  \\\n",
            "0  ['fabio', 'quartararo', 'said', 'impressed', '...   \n",
            "1  ['author', 'article', 'article', 'content', 'b...   \n",
            "2  ['rashid', 'vally', 'visionary', 'behind', 'so...   \n",
            "3  ['ollirichard', 'smith', 'chairliololliuk', 'h...   \n",
            "4  ['caracol', '’', 'acclaimed', 'series', 'el', ...   \n",
            "\n",
            "                                             Bigrams Sentiment  \n",
            "0  [('fabio', 'quartararo'), ('quartararo', 'said...  positive  \n",
            "1  [('author', 'article'), ('article', 'article')...   neutral  \n",
            "2  [('rashid', 'vally'), ('vally', 'visionary'), ...  positive  \n",
            "3  [('ollirichard', 'smith'), ('smith', 'chairlio...   neutral  \n",
            "4  [('caracol', '’'), ('’', 'acclaimed'), ('accla...  negative  \n"
          ]
        },
        {
          "output_type": "stream",
          "name": "stderr",
          "text": [
            "/usr/local/lib/python3.10/dist-packages/ipykernel/ipkernel.py:283: DeprecationWarning:\n",
            "\n",
            "`should_run_async` will not call `transform_cell` automatically in the future. Please pass the result to `transformed_cell` argument and any exception that happen during thetransform in `preprocessing_exc_tuple` in IPython 7.17 and above.\n",
            "\n"
          ]
        }
      ]
    },
    {
      "cell_type": "markdown",
      "source": [
        "## **TASK 06: STYLOMETRIC ANALYSIS AND VISUALIZATION**"
      ],
      "metadata": {
        "id": "frBVtpMHqyqp"
      }
    },
    {
      "cell_type": "code",
      "source": [
        "# Importing necessary libraries\n",
        "\n",
        "from sklearn.decomposition import PCA\n",
        "from sklearn.cluster import KMeans\n",
        "from scipy.cluster.hierarchy import dendrogram, linkage\n",
        "import matplotlib.pyplot as plt\n",
        "import numpy as np"
      ],
      "metadata": {
        "colab": {
          "base_uri": "https://localhost:8080/"
        },
        "id": "iTTP0ABlq6rv",
        "outputId": "4a984ad3-ab28-47f7-f0ae-ea4950a10f60"
      },
      "execution_count": 50,
      "outputs": [
        {
          "output_type": "stream",
          "name": "stderr",
          "text": [
            "/usr/local/lib/python3.10/dist-packages/ipykernel/ipkernel.py:283: DeprecationWarning:\n",
            "\n",
            "`should_run_async` will not call `transform_cell` automatically in the future. Please pass the result to `transformed_cell` argument and any exception that happen during thetransform in `preprocessing_exc_tuple` in IPython 7.17 and above.\n",
            "\n"
          ]
        }
      ]
    },
    {
      "cell_type": "code",
      "source": [
        "# Loading the combined dataset\n",
        "\n",
        "data = pd.read_csv('/content/combined_dataset.csv')\n",
        "print(data)"
      ],
      "metadata": {
        "colab": {
          "base_uri": "https://localhost:8080/"
        },
        "id": "YzF8tdicxP3J",
        "outputId": "2ff55591-ce96-43b4-9ac5-7abece09e920"
      },
      "execution_count": 57,
      "outputs": [
        {
          "output_type": "stream",
          "name": "stdout",
          "text": [
            "                     TimeStamp  \\\n",
            "0         2024-12-17T10:51:39Z   \n",
            "1         2024-12-17T10:50:41Z   \n",
            "2         2024-12-17T10:48:17Z   \n",
            "3         2024-12-17T10:47:08Z   \n",
            "4         2024-12-17T10:45:07Z   \n",
            "..                         ...   \n",
            "447  2024-12-18 10:28:28+00:00   \n",
            "448  2024-12-18 10:28:11+00:00   \n",
            "449  2024-12-18 10:27:48+00:00   \n",
            "450  2024-12-18 10:27:37+00:00   \n",
            "451  2024-12-18 10:27:17+00:00   \n",
            "\n",
            "                                                  Text  \\\n",
            "0    Fabio Quartararo has said he was impressed by ...   \n",
            "1    Author of the article:\\r\\nArticle content\\r\\nB...   \n",
            "2    Rashid Vally, the visionary behind South Afric...   \n",
            "3    <ol><li>Richard Smith, chair</li></ol><ol><li>...   \n",
            "4    Caracol’s acclaimed series El Secretario\\r\\nNE...   \n",
            "..                                                 ...   \n",
            "447  LET GET PAID AGAIN TONIGHT 🤑🤑\\nTAP IN THE LINK...   \n",
            "448  WORKOUT INSPO 🏋🏾\\n\\n#arms \\n#athlete #fitness ...   \n",
            "449  Keep enjoying the vibes.   Good music only.   ...   \n",
            "450  LET GET PAID AGAIN TONIGHT 🤑🤑\\nTAP IN THE LINK...   \n",
            "451  Receive the daily pre-market information repor...   \n",
            "\n",
            "                                                Tokens  \\\n",
            "0    ['fabio', 'quartararo', 'said', 'impressed', '...   \n",
            "1    ['author', 'article', 'article', 'content', 'b...   \n",
            "2    ['rashid', 'vally', 'visionary', 'behind', 'so...   \n",
            "3    ['ollirichard', 'smith', 'chairliololliuk', 'h...   \n",
            "4    ['caracol', '’', 'acclaimed', 'series', 'el', ...   \n",
            "..                                                 ...   \n",
            "447  ['let', 'get', 'paid', 'tonight', '🤑🤑', 'tap',...   \n",
            "448  ['workout', 'inspo', '🏋🏾', 'arm', 'athlete', '...   \n",
            "449  ['keep', 'enjoying', 'vibe', 'good', 'music', ...   \n",
            "450  ['let', 'get', 'paid', 'tonight', '🤑🤑', 'tap',...   \n",
            "451  ['receive', 'daily', 'premarket', 'information...   \n",
            "\n",
            "                                               Bigrams Sentiment  \n",
            "0    [('fabio', 'quartararo'), ('quartararo', 'said...  positive  \n",
            "1    [('author', 'article'), ('article', 'article')...   neutral  \n",
            "2    [('rashid', 'vally'), ('vally', 'visionary'), ...  positive  \n",
            "3    [('ollirichard', 'smith'), ('smith', 'chairlio...   neutral  \n",
            "4    [('caracol', '’'), ('’', 'acclaimed'), ('accla...  negative  \n",
            "..                                                 ...       ...  \n",
            "447  [('let', 'get'), ('get', 'paid'), ('paid', 'to...  positive  \n",
            "448  [('workout', 'inspo'), ('inspo', '🏋🏾'), ('🏋🏾',...   neutral  \n",
            "449  [('keep', 'enjoying'), ('enjoying', 'vibe'), (...  positive  \n",
            "450  [('let', 'get'), ('get', 'paid'), ('paid', 'to...  positive  \n",
            "451  [('receive', 'daily'), ('daily', 'premarket'),...   neutral  \n",
            "\n",
            "[452 rows x 5 columns]\n"
          ]
        },
        {
          "output_type": "stream",
          "name": "stderr",
          "text": [
            "/usr/local/lib/python3.10/dist-packages/ipykernel/ipkernel.py:283: DeprecationWarning:\n",
            "\n",
            "`should_run_async` will not call `transform_cell` automatically in the future. Please pass the result to `transformed_cell` argument and any exception that happen during thetransform in `preprocessing_exc_tuple` in IPython 7.17 and above.\n",
            "\n"
          ]
        }
      ]
    },
    {
      "cell_type": "code",
      "source": [
        "# Stylometric Feature Extraction\n",
        "# Token lengths\n",
        "\n",
        "data['token_length'] = data['Tokens'].apply(lambda x: len(eval(x)))\n",
        "\n",
        "# Average word length\n",
        "\n",
        "data['average_word_length'] = data['Tokens'].apply(lambda x: np.mean([len(word) for word in eval(x)]))\n",
        "\n",
        "# Word frequency (number of unique words normalized by total tokens)\n",
        "\n",
        "data['word_frequency'] = data['Tokens'].apply(lambda x: len(set(eval(x))) / len(eval(x)))\n",
        "\n",
        "# Sentence lengths (assuming Text column represents sentences)\n",
        "\n",
        "data['sentence_length'] = data['Text'].apply(lambda x: len(str(x).split('.')))\n",
        "\n",
        "# Stylistic marker: Ratio of punctuation to total characters\n",
        "\n",
        "data['punctuation_ratio'] = data['Text'].apply(lambda x: sum([1 for char in str(x) if char in '.,!?;:']) / len(str(x)))\n",
        "\n",
        "# Create a feature matrix\n",
        "\n",
        "features = data[['token_length', 'average_word_length', 'word_frequency', 'sentence_length', 'punctuation_ratio']].values"
      ],
      "metadata": {
        "colab": {
          "base_uri": "https://localhost:8080/"
        },
        "id": "59inSVfYzfXc",
        "outputId": "65e06c27-696f-40d4-a9e0-187bdc47f82c"
      },
      "execution_count": 58,
      "outputs": [
        {
          "output_type": "stream",
          "name": "stderr",
          "text": [
            "/usr/local/lib/python3.10/dist-packages/ipykernel/ipkernel.py:283: DeprecationWarning:\n",
            "\n",
            "`should_run_async` will not call `transform_cell` automatically in the future. Please pass the result to `transformed_cell` argument and any exception that happen during thetransform in `preprocessing_exc_tuple` in IPython 7.17 and above.\n",
            "\n"
          ]
        }
      ]
    },
    {
      "cell_type": "code",
      "source": [
        "# PCA for Dimensionality Reduction\n",
        "\n",
        "pca = PCA(n_components=2)\n",
        "reduced_features = pca.fit_transform(features)"
      ],
      "metadata": {
        "colab": {
          "base_uri": "https://localhost:8080/"
        },
        "id": "9OZ03GIBzqMO",
        "outputId": "1129cb8a-2aa1-406d-a963-6e148d360886"
      },
      "execution_count": 59,
      "outputs": [
        {
          "output_type": "stream",
          "name": "stderr",
          "text": [
            "/usr/local/lib/python3.10/dist-packages/ipykernel/ipkernel.py:283: DeprecationWarning:\n",
            "\n",
            "`should_run_async` will not call `transform_cell` automatically in the future. Please pass the result to `transformed_cell` argument and any exception that happen during thetransform in `preprocessing_exc_tuple` in IPython 7.17 and above.\n",
            "\n"
          ]
        }
      ]
    },
    {
      "cell_type": "code",
      "source": [
        "# K-Means Clustering\n",
        "\n",
        "kmeans = KMeans(n_clusters=3, random_state=42)\n",
        "data['Cluster'] = kmeans.fit_predict(reduced_features)"
      ],
      "metadata": {
        "colab": {
          "base_uri": "https://localhost:8080/"
        },
        "id": "hHvuZkNCzyrw",
        "outputId": "6645bda5-522b-4f36-d8df-ff06ee31a323"
      },
      "execution_count": 60,
      "outputs": [
        {
          "output_type": "stream",
          "name": "stderr",
          "text": [
            "/usr/local/lib/python3.10/dist-packages/ipykernel/ipkernel.py:283: DeprecationWarning:\n",
            "\n",
            "`should_run_async` will not call `transform_cell` automatically in the future. Please pass the result to `transformed_cell` argument and any exception that happen during thetransform in `preprocessing_exc_tuple` in IPython 7.17 and above.\n",
            "\n"
          ]
        }
      ]
    },
    {
      "cell_type": "code",
      "source": [
        "# PCA Scatterplot\n",
        "\n",
        "plt.figure(figsize=(12, 8))\n",
        "for cluster in range(3):\n",
        "    cluster_points = reduced_features[data['Cluster'] == cluster]\n",
        "    plt.scatter(cluster_points[:, 0], cluster_points[:, 1], label=f'Cluster {cluster}')\n",
        "plt.title('PCA Scatterplot of Stylometric Features')\n",
        "plt.xlabel('PCA Component 1')\n",
        "plt.ylabel('PCA Component 2')\n",
        "plt.legend()\n",
        "plt.show()"
      ],
      "metadata": {
        "colab": {
          "base_uri": "https://localhost:8080/",
          "height": 807
        },
        "id": "Ucg4V-Cqz5NB",
        "outputId": "a4eaf775-a571-42c9-84a4-161f426a4fcd"
      },
      "execution_count": 61,
      "outputs": [
        {
          "output_type": "stream",
          "name": "stderr",
          "text": [
            "/usr/local/lib/python3.10/dist-packages/ipykernel/ipkernel.py:283: DeprecationWarning:\n",
            "\n",
            "`should_run_async` will not call `transform_cell` automatically in the future. Please pass the result to `transformed_cell` argument and any exception that happen during thetransform in `preprocessing_exc_tuple` in IPython 7.17 and above.\n",
            "\n"
          ]
        },
        {
          "output_type": "display_data",
          "data": {
            "text/plain": [
              "<Figure size 1200x800 with 1 Axes>"
            ],
            "image/png": "[encoded data removed]"
          },
          "metadata": {}
        }
      ]
    },
    {
      "cell_type": "code",
      "source": [
        "# Dendrogram\n",
        "\n",
        "linked = linkage(features, method='ward')\n",
        "plt.figure(figsize=(14, 8))\n",
        "dendrogram(linked, labels=data['Sentiment'].values, orientation='top', distance_sort='descending', show_leaf_counts=True)\n",
        "plt.title('Dendrogram of Stylometric Features')\n",
        "plt.show()"
      ],
      "metadata": {
        "colab": {
          "base_uri": "https://localhost:8080/",
          "height": 786
        },
        "id": "PMBZy7DM0T5i",
        "outputId": "3cbbaff6-0ae8-4ddc-8414-bfee8ae69da8"
      },
      "execution_count": 66,
      "outputs": [
        {
          "output_type": "stream",
          "name": "stderr",
          "text": [
            "/usr/local/lib/python3.10/dist-packages/ipykernel/ipkernel.py:283: DeprecationWarning:\n",
            "\n",
            "`should_run_async` will not call `transform_cell` automatically in the future. Please pass the result to `transformed_cell` argument and any exception that happen during thetransform in `preprocessing_exc_tuple` in IPython 7.17 and above.\n",
            "\n"
          ]
        },
        {
          "output_type": "display_data",
          "data": {
            "text/plain": [
              "<Figure size 1400x800 with 1 Axes>"
            ],
            "image/png": "[encoded data removed]"
          },
          "metadata": {}
        }
      ]
    },
    {
      "cell_type": "code",
      "source": [
        "# Saving the processed dataset\n",
        "\n",
        "processed_file_path = 'stylometric_features_dataset.csv'\n",
        "data.to_csv(processed_file_path, index=False)\n",
        "print(f\"Processed dataset saved to {processed_file_path}\")"
      ],
      "metadata": {
        "colab": {
          "base_uri": "https://localhost:8080/"
        },
        "id": "cdgcKAAP06LY",
        "outputId": "5855db0d-99d2-4c80-dc81-2896fbbb7878"
      },
      "execution_count": 68,
      "outputs": [
        {
          "output_type": "stream",
          "name": "stdout",
          "text": [
            "Processed dataset saved to stylometric_features_dataset.csv\n"
          ]
        },
        {
          "output_type": "stream",
          "name": "stderr",
          "text": [
            "/usr/local/lib/python3.10/dist-packages/ipykernel/ipkernel.py:283: DeprecationWarning:\n",
            "\n",
            "`should_run_async` will not call `transform_cell` automatically in the future. Please pass the result to `transformed_cell` argument and any exception that happen during thetransform in `preprocessing_exc_tuple` in IPython 7.17 and above.\n",
            "\n"
          ]
        }
      ]
    }
  ]
}